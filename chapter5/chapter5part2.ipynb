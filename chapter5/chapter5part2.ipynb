{
 "cells": [
  {
   "cell_type": "markdown",
   "metadata": {},
   "source": [
    "# Chapter 5. 函数 II\n",
    "## Part 2 模块\n",
    "\n",
    "在之前的教程中我们已经多次碰到形如“import ... ”的命令。这类命令的功能是导入模块（Module）以便于我们利用其特定功能实现特定目的。因为有模块，我们可以直接使用别人规定好的变量、写好的函数和构造好的类（Class，见下一章），省却了自己造轮子的麻烦。如果非要让我选一个Python最强大的命令，那import当之无愧。下面几幅漫画很好地传达了Python使用者的态度：\n",
    "\n",
    "- 图一，哈利·波特用import导入魔法咒语：\n",
    "![](pics\\import2.png)\n",
    "\n",
    "\n",
    "- 图二，用import赋予烧瓶灵魂：\n",
    "![](pics\\import1.png)\n",
    "\n",
    "\n",
    "\n",
    "- 图三，想吃培根请import bacon：\n",
    "![](pics\\import3.png)\n",
    "\n",
    "\n",
    "\n",
    "言归正传，在本章我们将学习：\n",
    "- 模块和包的概念\n",
    "- 模块的导入和使用\n",
    "- 模块的搜索机制\n",
    "- 第三方模块安装\n",
    "\n",
    "学完以后，你就掌握了Python的“屠龙之术”。\n",
    "\n",
    "在开始本章的学习之前，请确认已将教程压缩包里的ModuleExample.py文件、jieba-0.39.zip文件、PackageExample文件夹移至chapter5文件夹下。\n"
   ]
  },
  {
   "cell_type": "markdown",
   "metadata": {},
   "source": [
    "____\n",
    "## 5.4 模块和包"
   ]
  },
  {
   "cell_type": "markdown",
   "metadata": {},
   "source": [
    "我们已经多次碰到模块这个词了，也导入过一些内置模块了。模块本质上就是一个普通的Python脚本文件，实际上没有什么高大上的内容在里头。你可以用记事本、Spyder或其他编辑器打开ModuleExample.py文件看看。这个脚本文件定义了一个变量constant = 1，定义了一个能够打印\"This is a simple module.\"的函数function()，实在是再普通不过了。我们可以把它import到当前的工作环境里："
   ]
  },
  {
   "cell_type": "code",
   "execution_count": null,
   "metadata": {
    "collapsed": false
   },
   "outputs": [],
   "source": [
    "import ModuleExample"
   ]
  },
  {
   "cell_type": "markdown",
   "metadata": {},
   "source": [
    "只要本教程文件（chapter5part2.ipynb）和ModuleExample.py放在同一目录下，上述import命令就不会报错。没报错即意味着成功导入。"
   ]
  },
  {
   "cell_type": "code",
   "execution_count": null,
   "metadata": {
    "collapsed": false
   },
   "outputs": [],
   "source": [
    "print(ModuleExample)"
   ]
  },
  {
   "cell_type": "markdown",
   "metadata": {},
   "source": [
    "通过print()我们可以打印模块信息。在我的电脑上，模块信息是`<module 'ModuleExample' from 'D:\\\\learnpython\\\\chapter5\\\\ModuleExample.py'>`，可以很清楚地看到模块的来源，此处显示的即是存放ModuleExample.py的路径。\n",
    "\n",
    "导入了ModuleExample以后，我们自然可以使用其中定义的变量和函数了。调用的方式是在模块名后面加“**`.`**”，再跟上对象名。其实，在Jupyter Notebook或Ipython等运行环境中我们可以在输入英文句号之后按Tab，自动联想功能将提示你可供选择的对象名，非常方便："
   ]
  },
  {
   "cell_type": "code",
   "execution_count": null,
   "metadata": {
    "collapsed": false
   },
   "outputs": [],
   "source": [
    "ModuleExample.constant"
   ]
  },
  {
   "cell_type": "code",
   "execution_count": null,
   "metadata": {
    "collapsed": false
   },
   "outputs": [],
   "source": [
    "ModuleExample.function()"
   ]
  },
  {
   "cell_type": "markdown",
   "metadata": {},
   "source": [
    "自然，我们也可以把模块里规定好的对象传递给别的变量："
   ]
  },
  {
   "cell_type": "code",
   "execution_count": null,
   "metadata": {
    "collapsed": false
   },
   "outputs": [],
   "source": [
    "new_func = ModuleExample.function"
   ]
  },
  {
   "cell_type": "code",
   "execution_count": null,
   "metadata": {
    "collapsed": false
   },
   "outputs": [],
   "source": [
    "new_func()"
   ]
  },
  {
   "cell_type": "markdown",
   "metadata": {},
   "source": [
    "导入模块的原理是什么呢？无非就是把模块对应的Python脚本悄悄运行一遍，这样内存里就出现了模块里已定义的对象，供我们直接使用。其最终效果等同于把相关代码复制粘贴运行一遍。\n",
    "\n",
    "有很多时候，单个Python脚本不足以支撑起全部待实现功能，我们需要一系列的Python脚本各司其职。把一堆.py文件按条例组织好，就形成了一个包（Package）。PackageExample文件夹就构成了一个包，你可以大致浏览一下该文件夹的结构和每个脚本文件的内容。\n",
    "\n",
    "这个文件夹的目录结构如下：\n",
    "```\n",
    "|-- PacakgeExample\n",
    "    | -- __init__.py\n",
    "    | -- constant.py\n",
    "    | -- funtion.py\n",
    "    | -- sub1\n",
    "        | -- __init__.py\n",
    "        | -- cwd.py      \n",
    "```\n",
    "包的名称就是PackageExample，可以直接传递给import命令："
   ]
  },
  {
   "cell_type": "code",
   "execution_count": null,
   "metadata": {
    "collapsed": true
   },
   "outputs": [],
   "source": [
    "import PackageExample"
   ]
  },
  {
   "cell_type": "code",
   "execution_count": null,
   "metadata": {
    "collapsed": false
   },
   "outputs": [],
   "source": [
    "print(PackageExample)"
   ]
  },
  {
   "cell_type": "markdown",
   "metadata": {},
   "source": [
    "打印PackageExample，可以看到它对应的源文件就是PackageExample目录下的\\_\\_init\\_\\_.py。这个文件里定义了一个变量core_values和一个函数func()，可以调用。"
   ]
  },
  {
   "cell_type": "code",
   "execution_count": null,
   "metadata": {
    "collapsed": false
   },
   "outputs": [],
   "source": [
    "print(PackageExample.core_values)"
   ]
  },
  {
   "cell_type": "code",
   "execution_count": null,
   "metadata": {
    "collapsed": false
   },
   "outputs": [],
   "source": [
    "PackageExample.func()"
   ]
  },
  {
   "cell_type": "markdown",
   "metadata": {},
   "source": [
    "注意到，PackageExample文件夹下还有constant.py和function.py，根据之前的定义，这俩也是模块。我们可以用以下方式导入它们："
   ]
  },
  {
   "cell_type": "code",
   "execution_count": null,
   "metadata": {
    "collapsed": true
   },
   "outputs": [],
   "source": [
    "import PackageExample.constant\n",
    "import PackageExample.function"
   ]
  },
  {
   "cell_type": "markdown",
   "metadata": {},
   "source": [
    "导入之后，我们才能正常使用文件中定义的变量和函数（你可以打源文件查看函数的定义）："
   ]
  },
  {
   "cell_type": "code",
   "execution_count": null,
   "metadata": {
    "collapsed": false
   },
   "outputs": [],
   "source": [
    "PackageExample.constant.my_e"
   ]
  },
  {
   "cell_type": "code",
   "execution_count": null,
   "metadata": {
    "collapsed": false
   },
   "outputs": [],
   "source": [
    "PackageExample.constant.my_pi"
   ]
  },
  {
   "cell_type": "code",
   "execution_count": null,
   "metadata": {
    "collapsed": false
   },
   "outputs": [],
   "source": [
    "PackageExample.function.my_all([True,True,False])"
   ]
  },
  {
   "cell_type": "code",
   "execution_count": null,
   "metadata": {
    "collapsed": false
   },
   "outputs": [],
   "source": [
    "PackageExample.function.my_any([True,True,False])"
   ]
  },
  {
   "cell_type": "markdown",
   "metadata": {},
   "source": [
    "PackageExample还包含了子文件夹sub1。如果我们想调用cwd.py，那可以这样import："
   ]
  },
  {
   "cell_type": "code",
   "execution_count": null,
   "metadata": {
    "collapsed": false
   },
   "outputs": [],
   "source": [
    "import PackageExample.sub1.cwd"
   ]
  },
  {
   "cell_type": "markdown",
   "metadata": {},
   "source": [
    "cwd模块包含了list_file()函数，这个函数很有用，你可以查看帮助文档大致了解一下："
   ]
  },
  {
   "cell_type": "code",
   "execution_count": null,
   "metadata": {
    "collapsed": false
   },
   "outputs": [],
   "source": [
    "PackageExample.sub1.cwd.list_file?"
   ]
  },
  {
   "cell_type": "code",
   "execution_count": null,
   "metadata": {
    "collapsed": false
   },
   "outputs": [],
   "source": [
    "PackageExample.sub1.cwd.list_file() #函数默认返回当前工作路径下所有.py文件的绝对路径。"
   ]
  },
  {
   "cell_type": "markdown",
   "metadata": {},
   "source": [
    "你可能会有疑问，\\_\\_init\\_\\_.py是啥，为什么每个目录下都有？尤其是sub1下的\\_\\_init\\_\\_.py，打开看没有任何内容。\n",
    "\n",
    "其实命名为\\_\\_init\\_\\_.py，只是为了告诉Python此目录是Package的一部分，所以即使是空文件也能起作用。如果\\_\\_init\\_\\_.py本身定义了一些对象，那就可供使用，比如在 `import PackageExample` 以后我们能使用第一个\\_\\_init\\_\\_.py里定义的core_values和func()。"
   ]
  },
  {
   "cell_type": "markdown",
   "metadata": {},
   "source": [
    "___\n",
    "## 5.5 导入模块的多种姿势\n",
    "\n",
    "5.4节中模块的导入和后续使用方式过于冗长。本小节将介绍主要的模块导入句式。\n",
    "\n",
    "### 5.5.1 常规导入：import *name*\n",
    "\n",
    "这是使用频率最高的导入方式，导入的是整个模块。以内置的math模块为例："
   ]
  },
  {
   "cell_type": "code",
   "execution_count": null,
   "metadata": {
    "collapsed": true
   },
   "outputs": [],
   "source": [
    "import math"
   ]
  },
  {
   "cell_type": "markdown",
   "metadata": {},
   "source": [
    "通过这一行简单的代码，我们就把math模块里的所有对象导入至工作环境里了。math模块下的变量、函数和类都能被我们调用："
   ]
  },
  {
   "cell_type": "code",
   "execution_count": null,
   "metadata": {
    "collapsed": false
   },
   "outputs": [],
   "source": [
    "print(math)"
   ]
  },
  {
   "cell_type": "markdown",
   "metadata": {},
   "source": [
    "打印math，Python告诉我们它是内置(built-in)的模块。"
   ]
  },
  {
   "cell_type": "code",
   "execution_count": null,
   "metadata": {
    "collapsed": false
   },
   "outputs": [],
   "source": [
    "math.pi #圆周率，常数"
   ]
  },
  {
   "cell_type": "code",
   "execution_count": null,
   "metadata": {
    "collapsed": false
   },
   "outputs": [],
   "source": [
    "math.cos(math.pi/3) #余弦函数"
   ]
  },
  {
   "cell_type": "code",
   "execution_count": null,
   "metadata": {
    "collapsed": false
   },
   "outputs": [],
   "source": [
    "math.log10(10000) #以10为底的对数函数"
   ]
  },
  {
   "cell_type": "markdown",
   "metadata": {},
   "source": [
    "**请注意**，导入一个模块之后，模块名相当于一个变量，指向了内存中定义这个模块的内容。我们不能对这个变量赋值，否则会使模块失效："
   ]
  },
  {
   "cell_type": "code",
   "execution_count": null,
   "metadata": {
    "collapsed": true
   },
   "outputs": [],
   "source": [
    "math = 1"
   ]
  },
  {
   "cell_type": "code",
   "execution_count": null,
   "metadata": {
    "collapsed": false
   },
   "outputs": [],
   "source": [
    "math.log10(10000)  #运行该代码会出错，请运行Kernel - Restart"
   ]
  },
  {
   "cell_type": "markdown",
   "metadata": {},
   "source": [
    "此外，可以用一行import语句导入多个模块，句式是```import name1, name2, name3```，但这不符合代码规范，所以还请一次导入一个模块。"
   ]
  },
  {
   "cell_type": "markdown",
   "metadata": {},
   "source": [
    "### 5.5.2 **更换名称： import *name* as *new_name***\n",
    "\n",
    "在上面的例子中，math只有四个字母，输入起来并不麻烦。在模块名较长且使用频繁时，我们可以在不牺牲可读性的情况下更改模块所对应的变量名，达到简化书写的目的。以ModuleExample和PackageExample为例："
   ]
  },
  {
   "cell_type": "code",
   "execution_count": null,
   "metadata": {
    "collapsed": true
   },
   "outputs": [],
   "source": [
    "import ModuleExample as md"
   ]
  },
  {
   "cell_type": "code",
   "execution_count": null,
   "metadata": {
    "collapsed": false
   },
   "outputs": [],
   "source": [
    "md.constant"
   ]
  },
  {
   "cell_type": "code",
   "execution_count": null,
   "metadata": {
    "collapsed": false
   },
   "outputs": [],
   "source": [
    "md.function()"
   ]
  },
  {
   "cell_type": "code",
   "execution_count": null,
   "metadata": {
    "collapsed": true
   },
   "outputs": [],
   "source": [
    "import PackageExample.function as fn"
   ]
  },
  {
   "cell_type": "code",
   "execution_count": null,
   "metadata": {
    "collapsed": false
   },
   "outputs": [],
   "source": [
    "fn.my_all([True,True,False])"
   ]
  },
  {
   "cell_type": "markdown",
   "metadata": {},
   "source": [
    "如果你想利用Python跟数据打交道，那就绕不开numpy、pandas这两个包。在导入这两个包时更换名称，几乎是约定俗成的：\n",
    "\n",
    "```\n",
    "import numpy as np\n",
    "import pandas as pd\n",
    "```\n",
    "相信总有一天你会频繁遇到这哥俩 **:-D**"
   ]
  },
  {
   "cell_type": "markdown",
   "metadata": {},
   "source": [
    "### 5.5.3 **使用from语句导入：from *name* import *sub_name* **\n",
    "\n",
    "from语句可以帮我们导入某个package下的特定模块。回顾一下PackageExample的结构：\n",
    "\n",
    "```\n",
    "|-- PacakgeExample\n",
    "    | -- __init__.py\n",
    "    | -- constant.py\n",
    "    | -- funtion.py\n",
    "    | -- sub1\n",
    "        | -- __init__.py\n",
    "        | -- cwd.py      \n",
    "```\n",
    "导入function模块，我们之前的做法是`import PackageExample.function`\n",
    "若用from语句，则可以写成："
   ]
  },
  {
   "cell_type": "code",
   "execution_count": null,
   "metadata": {
    "collapsed": true
   },
   "outputs": [],
   "source": [
    "from PackageExample import function"
   ]
  },
  {
   "cell_type": "markdown",
   "metadata": {},
   "source": [
    "导入完毕后我们可以直接用function.my_all()或function.my_any()，而不用写成PackageExample.function.my_all()或PackageExample.function.my_any()："
   ]
  },
  {
   "cell_type": "code",
   "execution_count": null,
   "metadata": {
    "collapsed": false
   },
   "outputs": [],
   "source": [
    "function.my_all([True,True,False])"
   ]
  },
  {
   "cell_type": "markdown",
   "metadata": {},
   "source": [
    "**举一反三**：请用from语句导入cwd。"
   ]
  },
  {
   "cell_type": "markdown",
   "metadata": {},
   "source": [
    "from语句还可以帮我们导入某个模块内的特定对象。例如，我们要直接导入cwd模块下的函数list_file()，可以这样写："
   ]
  },
  {
   "cell_type": "code",
   "execution_count": null,
   "metadata": {
    "collapsed": true
   },
   "outputs": [],
   "source": [
    "from PackageExample.sub1.cwd import list_file"
   ]
  },
  {
   "cell_type": "markdown",
   "metadata": {},
   "source": [
    "之后就可以直接使用该函数了："
   ]
  },
  {
   "cell_type": "code",
   "execution_count": null,
   "metadata": {
    "collapsed": false,
    "scrolled": true
   },
   "outputs": [],
   "source": [
    "list_file()"
   ]
  },
  {
   "cell_type": "markdown",
   "metadata": {},
   "source": [
    "我们知道，导入模块的效果等同于把相应的脚本文件复制粘贴运行一遍，让相应的对象出现在内存里供调用。而用from语句导入特定对象，相当于把模块脚本中和这一对象相关的代码运行一遍。该方式在之前的教程中已有涉及，如以下两例："
   ]
  },
  {
   "cell_type": "code",
   "execution_count": null,
   "metadata": {
    "collapsed": true
   },
   "outputs": [],
   "source": [
    "from os import listdir"
   ]
  },
  {
   "cell_type": "code",
   "execution_count": null,
   "metadata": {
    "collapsed": true
   },
   "outputs": [],
   "source": [
    "from functools import reduce"
   ]
  },
  {
   "cell_type": "markdown",
   "metadata": {},
   "source": [
    "另外，from 还有其他衍生句式，可以按需使用：\n",
    "```\n",
    "from name import sub_name1, sub_name2, sub_name3 （一次导入多个）\n",
    "from name import sub_name as new_sub_name （导入后改名）\n",
    "```"
   ]
  },
  {
   "cell_type": "markdown",
   "metadata": {},
   "source": [
    "### 5.5.4 **使用from语句全盘导入：from *name* import \\* **\n",
    "\n",
    "该句式本质上还是from语句，但因为不推荐使用，所以单独拎出来说明一下。此种方式能导入特定模块内的所有对象，初看还挺炸裂的。"
   ]
  },
  {
   "cell_type": "code",
   "execution_count": null,
   "metadata": {
    "collapsed": true
   },
   "outputs": [],
   "source": [
    "from PackageExample import *"
   ]
  },
  {
   "cell_type": "markdown",
   "metadata": {},
   "source": [
    "运行以上语句，PackageExample/\\_\\_init\\_\\_.py内定义好的对象就可以直接使用了："
   ]
  },
  {
   "cell_type": "code",
   "execution_count": null,
   "metadata": {
    "collapsed": false,
    "scrolled": true
   },
   "outputs": [],
   "source": [
    "core_values"
   ]
  },
  {
   "cell_type": "code",
   "execution_count": null,
   "metadata": {
    "collapsed": false
   },
   "outputs": [],
   "source": [
    "func()"
   ]
  },
  {
   "cell_type": "markdown",
   "metadata": {},
   "source": [
    "这种做法在少数情况下是挺方便的，但是它会打乱你的命名空间。在上面这个例子中，如果使用常规的导入方式，PackageExample.core_values和PackageExample.func()至少能告诉我们这两个对象的来源。但采用全盘导入，这些对象前面就失去了标记。如果你在后续代码中定义了重名的对象，还会把导入的对象给覆盖掉。所以此方式不推荐使用。"
   ]
  },
  {
   "cell_type": "markdown",
   "metadata": {},
   "source": [
    "___\n",
    "## 5.6 import的搜索机制"
   ]
  },
  {
   "cell_type": "markdown",
   "metadata": {},
   "source": [
    "现在，请打开命令提示符（或终端 on Mac），进入Python，然后敲入`import ModuleName`并运行。不出意外的话你会看到如下结果：\n",
    "\n",
    "![](pics\\import_cmd.png)\n",
    "\n",
    "错误提示：没有叫“ModuleExample”的模块。\n",
    "\n",
    "ModuleExample.py不是好好地躺在课程目录下吗？\n",
    "\n",
    "当执行import命令时，有一个搜索模块对应文件的过程。搜索的第一个位置，就是当前Python所处的工作路径，如果能在工作路径里找到对应的脚本文件，就可以导入成功。如果在工作路径没找着？那系统就会继续搜索别的路径，而搜索的顺序取决于安装版本、系统设置等因素。我们可以调用sys模块的sys.path查看这些路径："
   ]
  },
  {
   "cell_type": "code",
   "execution_count": null,
   "metadata": {
    "collapsed": true
   },
   "outputs": [],
   "source": [
    "import sys"
   ]
  },
  {
   "cell_type": "code",
   "execution_count": null,
   "metadata": {
    "collapsed": false
   },
   "outputs": [],
   "source": [
    "sys.path"
   ]
  },
  {
   "cell_type": "markdown",
   "metadata": {},
   "source": [
    "在sys.path返回的list中，我们看到排第一个的是空字符串，它实际上代表着当前的工作路径。\n",
    "\n",
    "第三方模块和包的位置一般是在**site-packages**目录里，在我的电脑上是“E:\\\\Anaconda3\\\\lib\\\\site-packages”。请记住这个目录，它在下一节里能派上用场。\n",
    "\n",
    "你可能还会看到一些和Anaconda或Python无关的内容，因为环境变量（PATH）也在搜索范围内。关于环境变量的介绍请参看更新后的Chapter 1 第5页。\n",
    "\n",
    "**举一反三**：datetime是Python内置的与时间有关的模块。请尝试在当前路径下新建一个datetime.py，内容随意，再执行import datetime，观察结果。\n",
    "\n",
    "**解读**：如果在工作路径下放置了与内置模块重名的文件，内置模块会被冲掉。请注意：做完上述实验后务必把datetime.py给删了，不然python无法在这个目录下正常启动。"
   ]
  },
  {
   "cell_type": "markdown",
   "metadata": {},
   "source": [
    "如果要让命令提示符里的Python也能够调用ModuleExample、PackageExample，需要怎么做？我们可以把这两个模块\\包所在路径添加至sys.path。例子如下：\n",
    "\n",
    "![](pics\\import_cmd_sys.png)"
   ]
  },
  {
   "cell_type": "markdown",
   "metadata": {},
   "source": [
    "___\n",
    "## 5.7 第三方模块的安装"
   ]
  },
  {
   "cell_type": "markdown",
   "metadata": {},
   "source": [
    "Python的可扩展性来自第三方模块。值得庆幸的是，第三方模块的安装非常简单，本章我们将以最流行的Python中文分词利器结巴（Jieba）为例做介绍。\n",
    "\n",
    "在安装第三方模块之前，我们当然需要知道模块的名字。不过这个要求很容易达成，因为你肯定是为了实现某种功能而去寻找相应模块，所以应该对它已有所了解。比方说，我就是通过百度“Python 中文分词”知道了结巴分词这个神器。\n",
    "\n",
    "除了搜索引擎，该去哪里找模块或包呢？在此推荐两个网站：\n",
    "\n",
    "第一个是Python官方的[Python Package Index](https://pypi.python.org/pypi)，PyPI收入了十二万个Python包（截止2017年11月），堪称百科全书。\n",
    "\n",
    "第二个是Github上的项目[awesome-python](https://github.com/vinta/awesome-python)，这个项目罗列了各类应用中最流行的Python拓展模块和包，比如我们要接触的jieba就出现在Natural Language Processing这一类里。Github本身是全球最大的IT项目托管平台，推荐你做一定的探索。\n",
    "\n",
    "找到目标以后，安装的方法有很多，本教程着重介绍两种。"
   ]
  },
  {
   "cell_type": "markdown",
   "metadata": {},
   "source": [
    "### 5.7.1 方法1：pip包管理器（推荐）\n",
    "\n",
    "pip是最常用的Python包管理工具，可以直接在命令提示符里运行。pip提供了对Python模块的查找、安装、升级与卸载等功能。使用pip方便快捷，且不容易出错，是推荐的包管理方案。\n",
    "\n",
    "**查找：pip search**\n",
    "![](pics\\pip_search.png)\n",
    "pip列出了所有与结巴有关的包名、版本号和简洁。在这里我们选择jieba，它看着就像是原版。如果你不确定，可以在PyPI上进一步搜索。Pypi能够给出各个包的权重，权重越高自然越重要。"
   ]
  },
  {
   "cell_type": "markdown",
   "metadata": {},
   "source": [
    "**安装：pip install **\n",
    "![](pics\\pip_jieba.png)\n",
    "只要能在pip上找到，就可以通过pip install安装，下载、安装的过程基本全自动。\n",
    "\n",
    "注意：有些包需要其他底层包作为支持，如果有相应的设计，pip会下载并安装这些包（可能需要你的手动确认），否则你需要先把那些包给安装了。\n",
    "\n",
    "如果安装成功，则运行import jieba不会报错。"
   ]
  },
  {
   "cell_type": "markdown",
   "metadata": {},
   "source": [
    "**升级：pip install *xxx* --upgrade**\n",
    "![](pics\\pip_upgrade.png)\n",
    "此处显示jieba版本已是最新。"
   ]
  },
  {
   "cell_type": "markdown",
   "metadata": {},
   "source": [
    "**卸载：pip uninstall**\n",
    "![](pics\\pip_uninstall1.png)\n",
    "![](pics\\pip_uninstall2.png)\n",
    "卸载jieba的命令是pip install jieba，命令提示附会输出一大堆信息，在卸载过程中需要你的确认，请输入y按回车完成确认。"
   ]
  },
  {
   "cell_type": "markdown",
   "metadata": {},
   "source": [
    "### 5.7.2 方法2：半自动或纯手动安装\n",
    "\n",
    "在开始本小节的操作之前，请确保已经用pip uninstall把jieba卸载了。\n",
    "\n",
    "脱离了pip，下载jieba需要自己完成，我们可以在[Pypi项目地址](https://pypi.python.org/pypi/jieba/0.39)或[Github的项目源地址](https://github.com/fxsjy/jieba)下载到最新版本的jieba。不过本教程压缩包里已有源文件jieba-0.39.zip。将文件解压，我们可以看到，文件夹里有一个Python脚本文件setup.py，这个文件就是负责自动安装的，只要执行它就行。\n",
    "\n",
    "我们需要先把命令提示符的工作路径切换至setup.py所在路径，然后执行python setup.py install。具体步骤如下（相当于复习Chapter 1的内容）：\n",
    "![](pics\\manual_setup.png)\n",
    "\n",
    "我存放setup.py的路径是D:\\learnpython\\chapter5\\jieba-0.39\\，请根据你的情况做出调整。\n",
    "\n",
    "不借助pip，如果要卸载jieba该怎么办呢？5.6有特意提到，第三方模块和包的存放路径一般在site-packages目录下。手工卸载的方式自然是把这个目录下所有和jieba有关的文件和文件夹删除。为了删干净，你可以按名称排序找jieba打头的文件或文件夹。\n",
    "\n",
    "当然，如果你真的理解了module和package的本质，就能很容易猜到，所谓的安装无非就是把相应的脚本文件放置到site-packages目录下。如果把相应的脚本文件放在工作目录下，根据import的搜索顺序，也能够使用这个包。这样做就相当于纯手动安装了。\n",
    "\n",
    "**注意**：在下载第三方模块或包的时候，要注意是否与当前Python版本兼容。"
   ]
  },
  {
   "cell_type": "markdown",
   "metadata": {},
   "source": [
    "因为我们是用**Anaconda**版的Python，所以除了以上两种解决方案，还可以用Chapter 1介绍过的Anaconda Navigator进行包的管理。这上面大概有1200个包，Anaconda环境集成了两百多个，还有不到一千个可供我们安装。范围虽小，但只要这上面有的，都能和Anaconda环境完美兼容，且能帮我们自动配置，如自动安装底层必须的包等，省却不少麻烦。一些著名的项目，比如深度学习依赖的的Tensorflow、Theano和Keras等，就适合在Anaconda上配置。\n",
    "![](pics\\Anaconda.png)"
   ]
  },
  {
   "cell_type": "markdown",
   "metadata": {},
   "source": [
    "---\n",
    "## Part 2 小结\n",
    "\n",
    "本部分可以看成是番外篇，之所以放在函数这一章，是因为导入模块很大程度上就是为了利用别人写好的函数。现在，请问问自己想实现什么功能，再问问谷歌、百度、Pypi、Github，看看有没有对应的模块或包。通往未知世界的大门已经为你敞开，不要错过Python的精彩……\n",
    "\n",
    "最后以章节末小彩蛋结束本章，请尝试运行以下代码："
   ]
  },
  {
   "cell_type": "code",
   "execution_count": null,
   "metadata": {
    "collapsed": true
   },
   "outputs": [],
   "source": [
    "import antigravity"
   ]
  }
 ],
 "metadata": {
  "kernelspec": {
   "display_name": "Python 3",
   "language": "python",
   "name": "python3"
  },
  "language_info": {
   "codemirror_mode": {
    "name": "ipython",
    "version": 3
   },
   "file_extension": ".py",
   "mimetype": "text/x-python",
   "name": "python",
   "nbconvert_exporter": "python",
   "pygments_lexer": "ipython3",
   "version": "3.6.0"
  }
 },
 "nbformat": 4,
 "nbformat_minor": 2
}
