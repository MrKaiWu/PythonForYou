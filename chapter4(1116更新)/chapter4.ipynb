{
 "cells": [
  {
   "cell_type": "markdown",
   "metadata": {},
   "source": [
    "# Chapter 4. 函数 I\n",
    "\n",
    "在本章，你会了解到：\n",
    "- 函数的构造\n",
    "- 作用域\n",
    "- 函数的参数\n",
    "- 递归思想\n",
    "\n",
    "\n",
    "早在Chapter1，我们就接触了函数（Function）这个概念。hello world让我们接触了第一个函数，print()。之后我们学到了用于向用户请求输入的input()函数、用于判断数据类型的type()函数、用于数据转化的int()、float()、str()、bool()函数、用于生成序列的range()函数、用于求序列长度的len()函数等等等等。我们也接触到了对象的方法，如list的append()、pop()、index()方法，方法本质上也是函数。可以说，是函数支撑这个教程一直走到现在。那这些形形色色的函数，本身又是怎么来的呢？现在我们终于可以揭开她的神秘面纱了。\n",
    "\n",
    "在进入本章的学习之前，默认你已经认真看了Chapter 3，并且经历了作业蹂躏，对判断、循环、迭代等基本套路有了清晰的认识。事实上，这些内容正是函数的基石。函数相当于在上一章内容的基础之上，加了一件外套，很快你就会理解这句话的含义。"
   ]
  },
  {
   "cell_type": "markdown",
   "metadata": {},
   "source": [
    "----\n",
    "## 4.0 先导概念\n",
    "\n",
    "### 4.0.1 可重复（Repeatable）\n",
    "\n",
    "已知圆的半径是2米，请问其面积是？\n",
    "\n",
    "即便小学数学知识非常扎实，在回答这个问题时，我们也会不可避免地产生如下思考过程：\n",
    "1. 计算圆面积的公式是什么？\n",
    "2. （经过一番回忆）哦，是π乘以r的平方。\n",
    "3. 这里半径是2米，代入公式。\n",
    "4. 所以面积是π×2×2 = 4π平方米。\n",
    "\n",
    "如果大脑结构正常，它记住的应该不是4π这个结果，而是计算圆面积的公式。而这个公式就是事先定义好的一个面积函数S(r)=π×r^2，其中半径r是输入给这个函数的唯一**参数**。我们无需把每个半径对应的圆面积死死记牢，只要记住了这个函数，到具体应用的时候代入半径的数值就可以了。\n",
    "\n",
    "再举一个例子，从1加到100，如果你参加过小学数学竞赛，应该能直接说出结果5050。但是，换一个情景，比如从1234加到6789，你就不可能凭记忆说出答案了。但我们知道，等差数列之和等于（首项i+末项l）×项数n÷2，用数学函数表述为Σ(i,l,n)=(i+l)\\*n/2 。跟上一个函数比，这个函数有三个参数。\n",
    "\n",
    "对于很多这样（简单）的数学计算问题，我们都有对应的计算式，可以表示成函数。这些数学函数都是可重复利用的，输入相同的参数，就能输出相同的结果，通过改变输入参数就能应对不同的场景。\n",
    "\n",
    "在编程的世界里，我们也会遇到各种重复性的工作。如果我们能找到通用性的解决方案，就没有必要每次都从零开始分析、应对这些重复性的工作。函数做的就是这类事。**函数，就是可重复利用、帮助我们实现特定目的的代码块**。"
   ]
  },
  {
   "cell_type": "markdown",
   "metadata": {},
   "source": [
    "### 4.0.2 分解（Decomposition）\n",
    "\n",
    "虽然我们记住了圆面积的计算公式，但这公式，给100年时间我们也不能推导出来。虽然我们记住了等差数列的求和公式，但当初上学时，理解小欧拉提出的这种算法也是费了我们不少脑细胞的。\n",
    "\n",
    "什么意思呢？如果没有学过圆面积公式、等差数列求和公式，我们就需要自己花时间和精力去弄出一套计算方法。而这个过程是耗时的、甚至痛苦的。我们需要找出隐含在问题背后的规律性。通常，我们需要把问题分解，化大为小，一步一步推理、一步步计算。\n",
    "\n",
    "在编程时，当我们意识到一个问题可以通过自定义函数解决时，我们首先需要分解该问题，剖析其规律性，找到分步解决问题的路径。如果问题重要且频繁，花在分析问题上的一切时间都是值得的。如有必要，我们甚至可以为每一个步骤专门设计一个函数。"
   ]
  },
  {
   "cell_type": "markdown",
   "metadata": {},
   "source": [
    "### 4.0.3 抽象（Abstraction）"
   ]
  },
  {
   "cell_type": "markdown",
   "metadata": {},
   "source": [
    "尽管让我们自己推导圆面积计算公式不太可能，推导等差数列求和公式也多少花点时间，但既然有现成的公式了，我们不会推导又如何？如果把这两个式子编入计算器，上幼儿园的小朋友也能计算出正确的值。对于他们，这个计算器就像是一个黑盒子，输入计算需要用到的值，就输出相应的结果。计算器使用者可以对内部计算过程一无所知，奈何按对了键，数就算对了。\n",
    "\n",
    "我们设计函数的动机，在于懒。设计函数的目的，最终就是为了达到黑盒子的效果。利用函数，我们希望把所有问题抽象成输入→输出的问题，而不必关心封装在函数内部的代码是什么、有多少行。\n",
    "\n",
    "很多情况下，我们也没有能力去关心，因为我们会经常使用他人编写的现成的函数，而这些函数在实现方式上可能超乎我们的理解。然而我们需要关注吗？若需要，Python就失去其优势了。对于一个函数，尽管内部实现逻辑是其灵魂，但我们通常只关注从输入到输出的抽象，只需要知道如何传递正确的参数，以及函数将返回什么样的值就够了。有了函数，生活更美好。"
   ]
  },
  {
   "cell_type": "markdown",
   "metadata": {},
   "source": [
    "____\n",
    "## 4.1 函数的基本形式\n",
    "\n",
    "一个函数通常包含以下元素：\n",
    "- 函数名（自定义的）\n",
    "- 参数（0个、1个或多个）\n",
    "- 说明性文档（不是必要的）\n",
    "- 函数主体\n",
    "\n",
    "接下去，我们通过定义一系列函数，来熟悉函数的构造。"
   ]
  },
  {
   "cell_type": "markdown",
   "metadata": {},
   "source": [
    "### 4.1.1 构造一个函数"
   ]
  },
  {
   "cell_type": "markdown",
   "metadata": {},
   "source": [
    "注意，Python函数所能实现的功能并不局限于数学计算。函数的输入和输出，不一定是数字，事实上，可以是任何对象。但我们还是从最简单的纯数学计算开始，介绍如何构造函数。接下去，我们先定义一个计算圆面积的函数area_of_circle()："
   ]
  },
  {
   "cell_type": "code",
   "execution_count": null,
   "metadata": {
    "collapsed": true
   },
   "outputs": [],
   "source": [
    "from math import pi  #从math模块导入圆周率常数pi  可以暂时不了解这方面的内容\n",
    "\n",
    "def area_of_circle(r): #定义函数\n",
    "    return pi*r**2"
   ]
  },
  {
   "cell_type": "markdown",
   "metadata": {},
   "source": [
    "（请先忽略from...import）在这段代码中，我们首先看到**def**。def，就是define，向Python解释器声明了接下去我们要定义函数。紧跟着的area_of_circle是函数的名字，因为今后调用函数时，必须用相应的名字，所以通常我们起函数名要起得简洁规范。之后，圆括号里头代表的是参数，这里只有一个r，代表只有一个参数。参数的命名是任意的，只要符合变量命名规则即可。此外，如果有**多个参数**，必须用逗号隔开。在圆括号后头，跟了个冒号，和之前的if语句、for语句后面的冒号起到的都是划地盘的作用，表示接下去的区域是用来放函数主体的。\n",
    "\n",
    "\n",
    "再来看函数的主体部分，这里只有一行`return pi*r**2`。首先，注意它的缩进，依旧是四个空格或一个TAB。第二，**return**，顾名思义，是返回函数值的意思。第三，return后面跟着的是一个计算式，其中pi和2是常数，而刚才的参数r也作为变量参与到了这个计算式里头。\n",
    "\n",
    "调用该函数的过程，就是把数值传入参数r，r作为函数**内部**的变量参与事先定义好的计算，再把计算好的结果返回。"
   ]
  },
  {
   "cell_type": "code",
   "execution_count": null,
   "metadata": {
    "collapsed": false
   },
   "outputs": [],
   "source": [
    "area_of_circle(2)"
   ]
  },
  {
   "cell_type": "code",
   "execution_count": null,
   "metadata": {
    "collapsed": false,
    "scrolled": true
   },
   "outputs": [],
   "source": [
    "area_of_circle(11)"
   ]
  },
  {
   "cell_type": "markdown",
   "metadata": {},
   "source": [
    "当然，也可以把一行代码拆成两行，比如，先把面积赋值给一个变量，再把这个变量的值返回："
   ]
  },
  {
   "cell_type": "code",
   "execution_count": null,
   "metadata": {
    "collapsed": true
   },
   "outputs": [],
   "source": [
    "def area_of_circle2(r): #定义函数\n",
    "    s = pi*r**2\n",
    "    return s"
   ]
  },
  {
   "cell_type": "code",
   "execution_count": null,
   "metadata": {
    "collapsed": false
   },
   "outputs": [],
   "source": [
    "area_of_circle2(11) "
   ]
  },
  {
   "cell_type": "markdown",
   "metadata": {},
   "source": [
    "**问题**：调用area_of_circle2()函数以后，我们能获得s和r这两个变量的值吗？"
   ]
  },
  {
   "cell_type": "markdown",
   "metadata": {},
   "source": [
    "**解析**：如果你运行以下代码，会提示出错，错误信息为*name 'r' is not defined*。请记住，s和r都是area_of_circle2()函数内部的变量，跟这个函数外面的世界无关。"
   ]
  },
  {
   "cell_type": "code",
   "execution_count": null,
   "metadata": {
    "collapsed": false,
    "scrolled": true
   },
   "outputs": [],
   "source": [
    "area_of_circle2(5) \n",
    "print(r)"
   ]
  },
  {
   "cell_type": "markdown",
   "metadata": {},
   "source": [
    "**问题**：请完成等差数列求和函数sum_progression()的定义。"
   ]
  },
  {
   "cell_type": "code",
   "execution_count": null,
   "metadata": {
    "collapsed": false
   },
   "outputs": [],
   "source": [
    "def sum_progression(i, l, n):\n",
    "    #请补全函数的内容\n",
    "    "
   ]
  },
  {
   "cell_type": "markdown",
   "metadata": {},
   "source": [
    "**举一反三**：\n",
    "1. 请定义一个能计算四次方的函数。\n",
    "2. 请定义一个函数，实现二次函数ax^2+bx+c，其中a，b，c也可以调整。"
   ]
  },
  {
   "cell_type": "markdown",
   "metadata": {},
   "source": [
    "### 4.1.2 构造更复杂的函数"
   ]
  },
  {
   "cell_type": "markdown",
   "metadata": {},
   "source": [
    "请运行以下代码，观察结果："
   ]
  },
  {
   "cell_type": "code",
   "execution_count": null,
   "metadata": {
    "collapsed": false
   },
   "outputs": [],
   "source": [
    "area_of_circle('1')"
   ]
  },
  {
   "cell_type": "code",
   "execution_count": null,
   "metadata": {
    "collapsed": false
   },
   "outputs": [],
   "source": [
    "area_of_circle(-1)"
   ]
  },
  {
   "cell_type": "markdown",
   "metadata": {},
   "source": [
    "你发现了什么？当传入字符串时，Python会报错，你可以试着理解错误信息的含义；当传入负数时，Python输出了一个结果，但是根据我们的常识，半径应该是大于零的实数。\n",
    "\n",
    "所以，对于area_of_circle()，我们可以做进一步的优化："
   ]
  },
  {
   "cell_type": "code",
   "execution_count": null,
   "metadata": {
    "collapsed": true
   },
   "outputs": [],
   "source": [
    "def area_of_circle3(r):\n",
    "    if not isinstance(r,int) and not isinstance(r,float):\n",
    "        print('pealse input a number')\n",
    "    elif r< 0:\n",
    "        print('please input a positive number')\n",
    "    else:\n",
    "        return pi*r**2"
   ]
  },
  {
   "cell_type": "markdown",
   "metadata": {},
   "source": [
    "在上面的函数定义部分，我们要求传入的数据必须是数字（数字无外乎int和float两类），并且必须为正，否则函数会打印相应的提示，return语句不被触发："
   ]
  },
  {
   "cell_type": "code",
   "execution_count": null,
   "metadata": {
    "collapsed": false
   },
   "outputs": [],
   "source": [
    "area_of_circle3([1])"
   ]
  },
  {
   "cell_type": "code",
   "execution_count": null,
   "metadata": {
    "collapsed": false
   },
   "outputs": [],
   "source": [
    "area_of_circle3('1')"
   ]
  },
  {
   "cell_type": "code",
   "execution_count": null,
   "metadata": {
    "collapsed": false
   },
   "outputs": [],
   "source": [
    "area_of_circle3(-1)"
   ]
  },
  {
   "cell_type": "code",
   "execution_count": null,
   "metadata": {
    "collapsed": false
   },
   "outputs": [],
   "source": [
    "area_of_circle3(1)"
   ]
  },
  {
   "cell_type": "markdown",
   "metadata": {},
   "source": [
    "除了打印出错误提示以外，我们还可以通过`'''`(三单引号，也可以是三个双引号)增加**函数说明**，告诉函数使用者相关信息："
   ]
  },
  {
   "cell_type": "code",
   "execution_count": null,
   "metadata": {
    "collapsed": true
   },
   "outputs": [],
   "source": [
    "def area_of_circle3(r):\n",
    "    '''This is a function that calculates the area of a circle given a radium.\n",
    "    The input should be one postive number!\n",
    "    '''\n",
    "    if not isinstance(r,int) and not isinstance(r,float):\n",
    "        print('pealse input a number')\n",
    "    elif r< 0:\n",
    "        print('please input a positive number')\n",
    "    else:\n",
    "        return pi*r**2"
   ]
  },
  {
   "cell_type": "markdown",
   "metadata": {},
   "source": [
    "还记得快速查看函数帮助的两种方法吗？增加函数说明以后，我们自己加的这些提示性语句也能被系统调用出来了。当然，如果定义的函数只是自己用用，这一步没有太大必要。"
   ]
  },
  {
   "cell_type": "code",
   "execution_count": null,
   "metadata": {
    "collapsed": true
   },
   "outputs": [],
   "source": [
    "area_of_circle3?"
   ]
  },
  {
   "cell_type": "code",
   "execution_count": null,
   "metadata": {
    "collapsed": false
   },
   "outputs": [],
   "source": [
    "help(area_of_circle3)"
   ]
  },
  {
   "cell_type": "markdown",
   "metadata": {},
   "source": [
    "**问题**：在area_of_circle3()中，如果输入了非法数据，那函数的返回值是什么？"
   ]
  },
  {
   "cell_type": "code",
   "execution_count": null,
   "metadata": {
    "collapsed": false
   },
   "outputs": [],
   "source": [
    "a = area_of_circle3('1')"
   ]
  },
  {
   "cell_type": "code",
   "execution_count": null,
   "metadata": {
    "collapsed": false
   },
   "outputs": [],
   "source": [
    "print(a)"
   ]
  },
  {
   "cell_type": "code",
   "execution_count": null,
   "metadata": {
    "collapsed": false,
    "scrolled": true
   },
   "outputs": [],
   "source": [
    "area_of_circle3('1') == None"
   ]
  },
  {
   "cell_type": "markdown",
   "metadata": {},
   "source": [
    "**解析**：\n",
    "**函数不一定要有返回值**!!! 在area_of_circle()的定义里，仅当输入的数据是正实数时，才触发return语句。而当函数没有返回值时，等同于返回了None。   \n",
    "\n",
    "有一类函数叫做空函数，除了一个空壳它们啥都干不了，这种函数更没有什么返回值了。举例如下："
   ]
  },
  {
   "cell_type": "code",
   "execution_count": null,
   "metadata": {
    "collapsed": true
   },
   "outputs": [],
   "source": [
    "def function(x):\n",
    "    pass"
   ]
  },
  {
   "cell_type": "code",
   "execution_count": null,
   "metadata": {
    "collapsed": true
   },
   "outputs": [],
   "source": [
    "function(111)"
   ]
  },
  {
   "cell_type": "markdown",
   "metadata": {},
   "source": [
    "pass语句代表这一行啥也不干，用在if语句和for、while循环里也是一样的，你可以试试。对于程序员们而言，空函数的存在是有实际意义的，此处我们暂时不纠结。\n",
    "\n",
    "对于有返回值的函数而言，return语句可以有多条，例如，现在我们要写一个判断奇偶性的函数："
   ]
  },
  {
   "cell_type": "code",
   "execution_count": null,
   "metadata": {
    "collapsed": false
   },
   "outputs": [],
   "source": [
    "def isOdd(num):\n",
    "    if num % 2 == 0:\n",
    "        return False\n",
    "    return True"
   ]
  },
  {
   "cell_type": "code",
   "execution_count": null,
   "metadata": {
    "collapsed": false
   },
   "outputs": [],
   "source": [
    "isOdd(2)"
   ]
  },
  {
   "cell_type": "code",
   "execution_count": null,
   "metadata": {
    "collapsed": false
   },
   "outputs": [],
   "source": [
    "isOdd(11)"
   ]
  },
  {
   "cell_type": "markdown",
   "metadata": {},
   "source": [
    "**问题**：\n",
    "为什么最后一行不写成\n",
    "\n",
    "`\n",
    "else:\n",
    "    return True\n",
    "`\n",
    "？\n",
    "\n",
    "**问题**：当num为偶数的时候，会执行if条件里的语句。按道理，执行完这个语句以后，下面的return True也会执行，为什么isOdd不同时返回False和True？"
   ]
  },
  {
   "cell_type": "code",
   "execution_count": null,
   "metadata": {
    "collapsed": true
   },
   "outputs": [],
   "source": [
    "def function(num):\n",
    "    if num > 10:\n",
    "        return 'larger than ten'\n",
    "    if num >100:\n",
    "        return 'larger than hundred'"
   ]
  },
  {
   "cell_type": "code",
   "execution_count": null,
   "metadata": {
    "collapsed": false
   },
   "outputs": [],
   "source": [
    "function(101)"
   ]
  },
  {
   "cell_type": "markdown",
   "metadata": {},
   "source": [
    "**解析**：请记住，在调度函数内部语句时，一旦碰到return语句，剩下的语句就不会执行了。所以isOdd()可以用上述方式写。利用return的这个特点，area_of_circle3()也可以写成以下形式，其中单独的return相当于return None，请体会3和4的差异："
   ]
  },
  {
   "cell_type": "code",
   "execution_count": null,
   "metadata": {
    "collapsed": true
   },
   "outputs": [],
   "source": [
    "def area_of_circle4(r):\n",
    "    '''This is a function that calculates the area of a circle given a radium.\n",
    "    The input should be one postive number!\n",
    "    '''\n",
    "    if not isinstance(r,int) and not isinstance(r,float):   #isinstance()函数用于判断r是否是整数或浮点数\n",
    "        print('pealse input a number')\n",
    "        return\n",
    "    if r< 0:\n",
    "        print('please input a positive number')\n",
    "        return    \n",
    "    return pi*r**2"
   ]
  },
  {
   "cell_type": "markdown",
   "metadata": {},
   "source": [
    "**问题**：return 和 print 有什么区别？\n",
    "\n",
    "**解析**：\n",
    "1. return只能用在函数内部，print可以用在函数内部和外部。\n",
    "2. return返回一个值，如果要打印这个返回值，需要把值赋给一个变量，再调用print语句打印这个变量，或者直接在函数外面套一层print。\n",
    "3. print语句用在函数内部，没有返回值的功能，千万不能和return混淆！"
   ]
  },
  {
   "cell_type": "markdown",
   "metadata": {},
   "source": [
    "除了能够同时定义多个return语句，还可以在单条return语句里**返回多个值**！举例如下，这里我们定义一个能分拆浮点数整和小数部分的函数："
   ]
  },
  {
   "cell_type": "code",
   "execution_count": null,
   "metadata": {
    "collapsed": true
   },
   "outputs": [],
   "source": [
    "def splitFloat(f):\n",
    "    i = int(f)\n",
    "    d = f - int(f)\n",
    "    return i,d"
   ]
  },
  {
   "cell_type": "code",
   "execution_count": null,
   "metadata": {
    "collapsed": false
   },
   "outputs": [],
   "source": [
    "x,y = splitFloat(12.5)"
   ]
  },
  {
   "cell_type": "code",
   "execution_count": null,
   "metadata": {
    "collapsed": false
   },
   "outputs": [],
   "source": [
    "print(x)"
   ]
  },
  {
   "cell_type": "code",
   "execution_count": null,
   "metadata": {
    "collapsed": false
   },
   "outputs": [],
   "source": [
    "print(y)"
   ]
  },
  {
   "cell_type": "markdown",
   "metadata": {},
   "source": [
    "**问题**：splitFloat()函数实质上返回了啥？"
   ]
  },
  {
   "cell_type": "code",
   "execution_count": null,
   "metadata": {
    "collapsed": false
   },
   "outputs": [],
   "source": [
    "result = splitFloat(12.5)\n",
    "result"
   ]
  },
  {
   "cell_type": "markdown",
   "metadata": {},
   "source": [
    "**解析**：返回的是一个元组。正因为是序列，所以可以用`x,y =` 的形式分别赋值。（如遗忘了这部分内容，可回看Chapter 2）"
   ]
  },
  {
   "cell_type": "markdown",
   "metadata": {},
   "source": [
    "-----\n",
    "## 4.2 函数的作用域（Scope）\n",
    "在4.1.2，我们发现，调用了圆面积函数之后，打印半径变量r会报错。本节，我们对此做进一步了解。先上几组代码，请尝试解释运行结果。注意，Python函数参数个数可以是0，不用大惊小怪："
   ]
  },
  {
   "cell_type": "markdown",
   "metadata": {},
   "source": [
    "第一组："
   ]
  },
  {
   "cell_type": "code",
   "execution_count": null,
   "metadata": {
    "collapsed": false
   },
   "outputs": [],
   "source": [
    "def f():\n",
    "    x = 1\n",
    "    x += 1\n",
    "    print(x)"
   ]
  },
  {
   "cell_type": "code",
   "execution_count": null,
   "metadata": {
    "collapsed": false
   },
   "outputs": [],
   "source": [
    "x = 5\n",
    "f()\n",
    "print(x)"
   ]
  },
  {
   "cell_type": "markdown",
   "metadata": {},
   "source": [
    "第二组："
   ]
  },
  {
   "cell_type": "code",
   "execution_count": null,
   "metadata": {
    "collapsed": false
   },
   "outputs": [],
   "source": [
    "def g():\n",
    "    print(x)"
   ]
  },
  {
   "cell_type": "code",
   "execution_count": null,
   "metadata": {
    "collapsed": false
   },
   "outputs": [],
   "source": [
    "x = 5\n",
    "g()\n",
    "print(x)"
   ]
  },
  {
   "cell_type": "markdown",
   "metadata": {},
   "source": [
    "第三组："
   ]
  },
  {
   "cell_type": "code",
   "execution_count": null,
   "metadata": {
    "collapsed": false,
    "scrolled": false
   },
   "outputs": [],
   "source": [
    "def h():\n",
    "    x = x + 1\n",
    "    print(x)"
   ]
  },
  {
   "cell_type": "code",
   "execution_count": null,
   "metadata": {
    "collapsed": false
   },
   "outputs": [],
   "source": [
    "x = 5\n",
    "h()\n",
    "print(x)"
   ]
  },
  {
   "cell_type": "markdown",
   "metadata": {},
   "source": [
    "执行以上三组代码，如果你被结果弄懵了，那就对了。接下来我们逐一进行分析。\n",
    "\n",
    "第一组："
   ]
  },
  {
   "cell_type": "code",
   "execution_count": null,
   "metadata": {
    "collapsed": false
   },
   "outputs": [],
   "source": [
    "def f():\n",
    "    x = 1\n",
    "    x += 1\n",
    "    print(x)"
   ]
  },
  {
   "cell_type": "code",
   "execution_count": null,
   "metadata": {
    "collapsed": false
   },
   "outputs": [],
   "source": [
    "x = 5\n",
    "f()\n",
    "print(x)"
   ]
  },
  {
   "cell_type": "markdown",
   "metadata": {},
   "source": [
    "首先定义了一个函数f()。在这个函数里，有一个内部变量x，赋值为1，之后又加了1，最后被打印了出来。所以f()的功能就是打印2。\n",
    "\n",
    "接下去，在函数外部，定义了一个变量x，赋值为5。然后调用f()，发现打印的仍是2，print(x)则能打印出5。\n",
    "\n",
    "这个例子还是比较好理解的。函数内部的x和外部的x是隔离的。调用f()，即声明了f()内部的x，所以在函数内部调用print(x)，打印出来的也是这个x。\n",
    "\n",
    "这就相当于，函数有着自己的地盘，我们称为**作用域**（Scope）。而函数以外的地方，我们称作**全局作用域**（Global Scope）。在函数作用域里定义的x自然归函数管，不受全局作用域干扰。"
   ]
  },
  {
   "cell_type": "markdown",
   "metadata": {},
   "source": [
    "第二组："
   ]
  },
  {
   "cell_type": "code",
   "execution_count": null,
   "metadata": {
    "collapsed": true
   },
   "outputs": [],
   "source": [
    "def g():\n",
    "    print(x)"
   ]
  },
  {
   "cell_type": "code",
   "execution_count": null,
   "metadata": {
    "collapsed": false
   },
   "outputs": [],
   "source": [
    "x = 5\n",
    "g()\n",
    "print(x)"
   ]
  },
  {
   "cell_type": "markdown",
   "metadata": {},
   "source": [
    "在这里，函数g()的作用域内并没有定义x，调用g()打印出5，那这个x肯定只能来自于函数外部。这个例子告诉了我们Python解释器的搜索顺序。如果函数内部没有定义某变量，Python会先搜索当前的**本地作用域**（Local Scope），在这里就是函数g()的作用域。如果没有搜索到，那就搜索外面的一层作用域，在这里就是全局作用域。"
   ]
  },
  {
   "cell_type": "markdown",
   "metadata": {},
   "source": [
    "第三组："
   ]
  },
  {
   "cell_type": "code",
   "execution_count": null,
   "metadata": {
    "collapsed": true
   },
   "outputs": [],
   "source": [
    "def h():\n",
    "    x = x + 1\n",
    "    print(x)"
   ]
  },
  {
   "cell_type": "code",
   "execution_count": null,
   "metadata": {
    "collapsed": false
   },
   "outputs": [],
   "source": [
    "x = 5\n",
    "h()\n",
    "print(x)"
   ]
  },
  {
   "cell_type": "markdown",
   "metadata": {},
   "source": [
    "根据上一组的启发，此处h()内部虽没有声明变量x，但全局作用域里有x，所以h()应该能打印出6才对。\n",
    "\n",
    "然而，运行第二个代码框出错，错误提示为：*local variable 'x' referenced before assignment*。这是为什么呢？\n",
    "\n",
    "这是因为`x = x + 1`是个特殊的赋值语句，拿x给x本身赋值。在这种情况下，Python默认x是隶属于local scope的local variable，所以在这里只会在h()函数的作用域里找x。因为并没有定义x，自然就报错了。"
   ]
  },
  {
   "cell_type": "markdown",
   "metadata": {},
   "source": [
    "举以上三个例子并不是为了弄晕大家，而是为了做代码的示范性分析，并说明作用域的重要性。\n",
    "\n",
    "其实，这三个例子对我们的启发很简单：**如果可以，尽量不要按同一种方式命名多个不相关变量。**"
   ]
  },
  {
   "cell_type": "markdown",
   "metadata": {},
   "source": [
    "**举一反三**：运行以下代码。在不调用函数的情况下，你认为执行g(x)会打印哪个x？"
   ]
  },
  {
   "cell_type": "code",
   "execution_count": null,
   "metadata": {
    "collapsed": false
   },
   "outputs": [],
   "source": [
    "def g(x):\n",
    "    def h():\n",
    "        x = 'abc'\n",
    "    x = x + 1\n",
    "    h()\n",
    "    print('in g(x): x =', x)\n",
    "\n",
    "x = 3"
   ]
  },
  {
   "cell_type": "markdown",
   "metadata": {},
   "source": [
    "在这里，推荐一个网站[PythonTutor](http://www.pythontutor.com/visualize.html#mode=edit)。这是一个神奇的代码可视化网站。它允许我们一步一步执行程序，图形和输出结果也会跟着变化。如果你实在无法弄清上述代码的机制，可以求助该网站。"
   ]
  },
  {
   "cell_type": "markdown",
   "metadata": {},
   "source": [
    "关于作用域，这里还有一个有趣的现象："
   ]
  },
  {
   "cell_type": "code",
   "execution_count": null,
   "metadata": {
    "collapsed": false
   },
   "outputs": [],
   "source": [
    "5/0"
   ]
  },
  {
   "cell_type": "code",
   "execution_count": null,
   "metadata": {
    "collapsed": false
   },
   "outputs": [],
   "source": [
    "def zerodivision(x):\n",
    "    return x/0"
   ]
  },
  {
   "cell_type": "code",
   "execution_count": null,
   "metadata": {
    "collapsed": false
   },
   "outputs": [],
   "source": [
    "type(zerodivision)"
   ]
  },
  {
   "cell_type": "code",
   "execution_count": null,
   "metadata": {
    "collapsed": false
   },
   "outputs": [],
   "source": [
    "print(zerodivision(3))"
   ]
  },
  {
   "cell_type": "markdown",
   "metadata": {},
   "source": [
    "在zerodivision()函数内部，我们要求返回输入值x除以0的结果。如第一个代码框所示，执行5/0会报错，但是在第二个代码框里，我们定义的这个函数却不会报错。第三个代码框确认了我们已成功定义该函数。在第四个代码框，我们调用了zerodivision()函数，Python终于报错了。\n",
    "\n",
    "这个例子告诉我们，定义好函数以后，在第一次使用它之前，函数主体部分是不会运行的。"
   ]
  },
  {
   "cell_type": "markdown",
   "metadata": {},
   "source": [
    "____\n",
    "## 4.3 函数的参数\n",
    "\n",
    "在之前的几小节里，除了知道可以有0个1个或多个参数以外，我们并没有对它做太多文章。事实上，函数参数也是体现Python灵活性的地方。除了正常定义的必选参数外，还可以使用默认参数、可变参数和关键字参数等。"
   ]
  },
  {
   "cell_type": "markdown",
   "metadata": {},
   "source": [
    "### 4.3.1 位置参数 （Positional Argument）\n",
    "\n",
    "**位置参数**，是因为位置而被自然地赋值的参数。\n",
    "\n",
    "现在开始，假设我们不知道\\*\\*是求幂运算符。我们先写一个求平方的函数："
   ]
  },
  {
   "cell_type": "code",
   "execution_count": null,
   "metadata": {
    "collapsed": true
   },
   "outputs": [],
   "source": [
    "def power(x):\n",
    "    return x * x"
   ]
  },
  {
   "cell_type": "markdown",
   "metadata": {},
   "source": [
    "对于power()函数，参数x就是一个位置参数。当我们调用power()函数时，必须传入唯一的参数x。"
   ]
  },
  {
   "cell_type": "code",
   "execution_count": null,
   "metadata": {
    "collapsed": false
   },
   "outputs": [],
   "source": [
    "power(5)"
   ]
  },
  {
   "cell_type": "code",
   "execution_count": null,
   "metadata": {
    "collapsed": false
   },
   "outputs": [],
   "source": [
    "power(11)"
   ]
  },
  {
   "cell_type": "markdown",
   "metadata": {},
   "source": [
    "现在，如果我们要求立方怎么办？我们可以依样画葫芦，再定义一个power3()函数。\n",
    "\n",
    "但是，如果要计算四次方、五次方......n次方，怎么办？我们不可能定义无限多个函数。一个很自然的想法是，把power(x)修改为power(x,n)："
   ]
  },
  {
   "cell_type": "code",
   "execution_count": null,
   "metadata": {
    "collapsed": true
   },
   "outputs": [],
   "source": [
    "def power(x, n):\n",
    "    s = 1\n",
    "    while n > 0:\n",
    "        n -= 1\n",
    "        s *= x\n",
    "    return s"
   ]
  },
  {
   "cell_type": "code",
   "execution_count": null,
   "metadata": {
    "collapsed": false
   },
   "outputs": [],
   "source": [
    "power(2,1)"
   ]
  },
  {
   "cell_type": "code",
   "execution_count": null,
   "metadata": {
    "collapsed": false
   },
   "outputs": [],
   "source": [
    "power(2,2)"
   ]
  },
  {
   "cell_type": "code",
   "execution_count": null,
   "metadata": {
    "collapsed": false
   },
   "outputs": [],
   "source": [
    "power(2,3)"
   ]
  },
  {
   "cell_type": "markdown",
   "metadata": {},
   "source": [
    "修改后的power(x, n)函数有两个参数：x和n，这两个参数都是位置参数。调用函数时，传入的两个值按照**位置顺序**依次赋给参数x和n，这就是位置参数的含义。"
   ]
  },
  {
   "cell_type": "markdown",
   "metadata": {},
   "source": [
    "### 4.3.2 默认参数（Default Argument）"
   ]
  },
  {
   "cell_type": "code",
   "execution_count": null,
   "metadata": {
    "collapsed": false
   },
   "outputs": [],
   "source": [
    "power(5)"
   ]
  },
  {
   "cell_type": "markdown",
   "metadata": {},
   "source": [
    "新的power(x, n)函数定义没有问题，但是，旧的调用代码失败了，原因是我们增加了一个参数，导致旧的代码因为缺少一个参数而无法正常调用：\n",
    "\n",
    "Python的错误信息很明确：*power() missing 1 required positional argument: 'n'*，调用函数power()缺少了一个位置参数n。\n",
    "\n",
    "这个时候，**默认参数**就排上用场了。由于我们经常计算x2，所以，完全可以把第二个参数n的默认值设定为2："
   ]
  },
  {
   "cell_type": "code",
   "execution_count": null,
   "metadata": {
    "collapsed": true
   },
   "outputs": [],
   "source": [
    "def power(x, n=2):\n",
    "    s = 1\n",
    "    while n > 0:\n",
    "        n -= 1\n",
    "        s *= x\n",
    "    return s"
   ]
  },
  {
   "cell_type": "markdown",
   "metadata": {},
   "source": [
    "这样，当我们调用power(5)时，相当于调用power(5, 2)："
   ]
  },
  {
   "cell_type": "code",
   "execution_count": null,
   "metadata": {
    "collapsed": false
   },
   "outputs": [],
   "source": [
    "power(5)"
   ]
  },
  {
   "cell_type": "code",
   "execution_count": null,
   "metadata": {
    "collapsed": false,
    "scrolled": true
   },
   "outputs": [],
   "source": [
    "power(5,2)"
   ]
  },
  {
   "cell_type": "markdown",
   "metadata": {},
   "source": [
    "相对于n，x是**必选参数**（non-optional argument），是无论如何都要声明的。n因为有默认值，所以是可选参数（optional argument）\n",
    "\n",
    "而对于n > 2的其他情况，就必须明确地传入n，比如power(5, 3)。这时候Python顺次把5赋值给x，把n赋值给3，所以这两个参数也都属于位置参数。\n",
    "\n",
    "从上面的例子可以看出，默认参数可以简化函数的调用。\n",
    "\n",
    "**问题**：请思考，定义函数时，能否将默认参数放置在前，必选的参数放置在后？"
   ]
  },
  {
   "cell_type": "code",
   "execution_count": null,
   "metadata": {
    "collapsed": false
   },
   "outputs": [],
   "source": [
    "def power(n=2, x):\n",
    "    s = 1\n",
    "    while n > 0:\n",
    "        n = n - 1\n",
    "        s = s * x\n",
    "    return s"
   ]
  },
  {
   "cell_type": "markdown",
   "metadata": {},
   "source": [
    "**解析**：如上一段代码所示，Python解释器报错，提示我们非默认参数放在了默认参数之后。这样规定，其实是有道理的。假如上面这个power()函数定义成功了，那么，如果我们想用power(5)求5的平方，对于Python解释器而言，它究竟是要把5看成第一个参数，还是第二个参数呢？"
   ]
  },
  {
   "cell_type": "markdown",
   "metadata": {},
   "source": [
    "在具体设置参数时，我们可以把变化大的参数放前面，做位置参数，把变化小的、次要的参数放后面，并赋予初始值，做默认参数。使用默认参数，最大的好处是能降低调用函数的难度。\n",
    "\n",
    "举个例子，我们定义一个某附小刚入学小学生注册的函数，需要传入name、gender、age、city四个参数，但是，对于大部分学生而言，年龄都是六岁，城市都是北京，所以我们可以把后两个参数设置成默认参数："
   ]
  },
  {
   "cell_type": "code",
   "execution_count": null,
   "metadata": {
    "collapsed": true
   },
   "outputs": [],
   "source": [
    "def enroll(name, gender, age=6, city='Beijing'):\n",
    "    print('name:', name)\n",
    "    print('gender:', gender)\n",
    "    print('age:', age)\n",
    "    print('city:', city)"
   ]
  },
  {
   "cell_type": "markdown",
   "metadata": {},
   "source": [
    "这样，大多数学生注册时不需要提供年龄和城市，只提供必须的两个参数："
   ]
  },
  {
   "cell_type": "code",
   "execution_count": null,
   "metadata": {
    "collapsed": false
   },
   "outputs": [],
   "source": [
    "enroll('Sarah', 'F')"
   ]
  },
  {
   "cell_type": "markdown",
   "metadata": {},
   "source": [
    "只有与默认参数不符的学生才需要提供额外的信息："
   ]
  },
  {
   "cell_type": "code",
   "execution_count": null,
   "metadata": {
    "collapsed": false,
    "scrolled": true
   },
   "outputs": [],
   "source": [
    "enroll('Bob', 'M', 7)"
   ]
  },
  {
   "cell_type": "markdown",
   "metadata": {},
   "source": [
    "有多个默认参数时，调用的时候，既可以按顺序提供默认参数，比如像上面这样调用enroll('Bob', 'M', 7)，意思是，除了name，gender这两个参数外，最后1个参数应用在参数age上，因为age参数排在city参数之前。city参数由于没有提供，仍然使用默认值。"
   ]
  },
  {
   "cell_type": "code",
   "execution_count": null,
   "metadata": {
    "collapsed": false
   },
   "outputs": [],
   "source": [
    "enroll('Adam', 'M', city='Tianjin')"
   ]
  },
  {
   "cell_type": "markdown",
   "metadata": {},
   "source": [
    "也可以像上面这样，不按顺序提供部分默认参数。当不按顺序提供部分默认参数时，需要把参数名写上。比如调用enroll('Adam', 'M', city='Tianjin')，意思是，city参数用传进去的值，其他默认参数继续使用默认值。"
   ]
  },
  {
   "cell_type": "code",
   "execution_count": null,
   "metadata": {
    "collapsed": false,
    "scrolled": true
   },
   "outputs": [],
   "source": [
    "enroll(city='Tianjin',gender='M',name='Adam')"
   ]
  },
  {
   "cell_type": "markdown",
   "metadata": {},
   "source": [
    "如果你记不清这些参数的顺序，一个很保险的做法是，在调用函数的时候，声明每一个参数的名字。像上面调用`enroll(city='Tianjin',gender='M',name='Adam')`，就不会因为参数位置的打乱而报错。通常，这是一个**好习惯**。"
   ]
  },
  {
   "cell_type": "markdown",
   "metadata": {},
   "source": [
    "### 4.3.3 可变参数（Arbitrary Argument）\n",
    "\n",
    "在Python函数中，还可以定义可变参数。顾名思义，可变参数就是传入的参数个数是可变的，可以是1个、2个到任意个，还可以是0个。\n",
    "\n",
    "我们以数学题为例子，给定一组数字a，b，c……，请计算a^2 + b^2 + c^2 + ……。\n",
    "\n",
    "要定义出这个函数，我们必须确定输入的参数。由于参数个数不确定，我们首先想到可以把a，b，c……作为一个list或tuple传进来，这样，函数可以定义如下："
   ]
  },
  {
   "cell_type": "code",
   "execution_count": null,
   "metadata": {
    "collapsed": true
   },
   "outputs": [],
   "source": [
    "def calc(numbers):\n",
    "    sum = 0\n",
    "    for n in numbers:\n",
    "        sum += n * n\n",
    "    return sum"
   ]
  },
  {
   "cell_type": "markdown",
   "metadata": {},
   "source": [
    "但是在调用calc()的时候，需要先组装出一个list或tuple："
   ]
  },
  {
   "cell_type": "code",
   "execution_count": null,
   "metadata": {
    "collapsed": false
   },
   "outputs": [],
   "source": [
    "calc([1, 2, 3])"
   ]
  },
  {
   "cell_type": "code",
   "execution_count": null,
   "metadata": {
    "collapsed": false
   },
   "outputs": [],
   "source": [
    "calc((1, 3, 5, 7))"
   ]
  },
  {
   "cell_type": "markdown",
   "metadata": {},
   "source": [
    "如果利用可变参数，我们可以简化调用函数的方式。定义可变参数和定义一个list或tuple参数相比，仅仅在参数前面多加了一个**\\***号："
   ]
  },
  {
   "cell_type": "code",
   "execution_count": null,
   "metadata": {
    "collapsed": false
   },
   "outputs": [],
   "source": [
    "def calc(*numbers):\n",
    "    sum = 0\n",
    "    print('type of numbers is',type(numbers))\n",
    "    for n in numbers:\n",
    "        sum += n * n\n",
    "    return sum"
   ]
  },
  {
   "cell_type": "code",
   "execution_count": null,
   "metadata": {
    "collapsed": false
   },
   "outputs": [],
   "source": [
    "calc(1, 2, 3)"
   ]
  },
  {
   "cell_type": "code",
   "execution_count": null,
   "metadata": {
    "collapsed": false
   },
   "outputs": [],
   "source": [
    "calc(1,3,5,7)"
   ]
  },
  {
   "cell_type": "markdown",
   "metadata": {},
   "source": [
    "因为加入了`print('type of numbers is',type(numbers))`语句，我们可以清楚地看到，在函数内部，参数numbers接收到的是一个tuple。因此，迭代逻辑不用改变。但是，调用该函数时，就可以传入任意个参数了，包括0个参数："
   ]
  },
  {
   "cell_type": "code",
   "execution_count": null,
   "metadata": {
    "collapsed": false,
    "scrolled": true
   },
   "outputs": [],
   "source": [
    "calc()"
   ]
  },
  {
   "cell_type": "markdown",
   "metadata": {},
   "source": [
    "如果已经有一个list或者tuple，要调用一个可变参数怎么办？可以这样做："
   ]
  },
  {
   "cell_type": "code",
   "execution_count": null,
   "metadata": {
    "collapsed": false
   },
   "outputs": [],
   "source": [
    "nums = [1, 2, 3]\n",
    "calc(*nums)"
   ]
  },
  {
   "cell_type": "markdown",
   "metadata": {},
   "source": [
    "\\*nums表示把nums这个list的所有元素作为可变参数传进去。\n",
    "\n",
    "尽管比较奇怪，但之前我们用过的一些函数，也支持可变参数，如range()函数。请查看range的说明文档，你是否看到了\\*args？这其实是可变参数的规范表示方法："
   ]
  },
  {
   "cell_type": "code",
   "execution_count": null,
   "metadata": {
    "collapsed": false
   },
   "outputs": [],
   "source": [
    "range?"
   ]
  },
  {
   "cell_type": "code",
   "execution_count": null,
   "metadata": {
    "collapsed": false
   },
   "outputs": [],
   "source": [
    "interval = [1,5]\n",
    "for i in range(*interval):\n",
    "    print(i)"
   ]
  },
  {
   "cell_type": "markdown",
   "metadata": {},
   "source": [
    "### 4.3.4 关键字参数（Keyword Argument）\n",
    "\n",
    "可变参数允许你传入0个或任意个参数，这些可变参数在函数调用时自动组装为一个tuple。而关键字参数允许你传入0个或任意个**含参数名**的参数，这些关键字参数在函数内部自动组装为一个dict。请看示例："
   ]
  },
  {
   "cell_type": "code",
   "execution_count": null,
   "metadata": {
    "collapsed": false
   },
   "outputs": [],
   "source": [
    "def person(name, age,**kwargs):\n",
    "    print('name:', name)\n",
    "    print('age:', age)\n",
    "    for key,value in kwargs.items():\n",
    "        print(key+':',value) \n",
    "        \n",
    "    if kwargs:  ##如果kwargs非空。请参考chapter2的作业。\n",
    "        print('\\ntype of kwargs is',type(kwargs))"
   ]
  },
  {
   "cell_type": "markdown",
   "metadata": {},
   "source": [
    "这是一个打印人口统计特征的函数。对于一个个体，可以有很多个维度去描述，我们无法穷举，所以干脆把除姓名和年龄以外的特征放到关键字参数kwargs里了。name和age在这里是必选参数，我们可以按照位置参数的方式，传入这两个参数："
   ]
  },
  {
   "cell_type": "code",
   "execution_count": null,
   "metadata": {
    "collapsed": false
   },
   "outputs": [],
   "source": [
    "person('Tracy', 22)"
   ]
  },
  {
   "cell_type": "markdown",
   "metadata": {},
   "source": [
    "也可以在传入必选参数的基础之上，再传入任意个数的关键字参数，参数名也是自定义的："
   ]
  },
  {
   "cell_type": "code",
   "execution_count": null,
   "metadata": {
    "collapsed": false
   },
   "outputs": [],
   "source": [
    "person('Tracy', 22, gender='F', height=163, nationality='China')"
   ]
  },
  {
   "cell_type": "markdown",
   "metadata": {},
   "source": [
    "我们看到，kwargs在函数内部被组装成了一个dict，一个key对应一个value，所以我们用迭代字典的方法把里面的元素打印出来。\n",
    "\n",
    "和可变参数类似，也可以先组装出一个dict，然后，把该dict转换为关键字参数传进去："
   ]
  },
  {
   "cell_type": "code",
   "execution_count": null,
   "metadata": {
    "collapsed": false
   },
   "outputs": [],
   "source": [
    "extra = {'city': 'Beijing', 'job': 'Engineer'}\n",
    "person('Jack', 24, **extra)"
   ]
  },
  {
   "cell_type": "markdown",
   "metadata": {},
   "source": [
    "注意，与可变参数不同，我们用\\*\\*解压dict，传入关键字参数。"
   ]
  },
  {
   "cell_type": "markdown",
   "metadata": {},
   "source": [
    "关键字参数有什么用？它可以扩展函数的功能。比如，在person()函数里，我们保证能接收到name和age这两个参数，但是，如果调用者愿意提供更多的参数，我们也能收到。试想你正在做一个用户注册的功能，除了用户名和年龄是必填项外，其他都是可选项，利用关键字参数来定义这个函数就能满足注册的需求。"
   ]
  },
  {
   "cell_type": "markdown",
   "metadata": {},
   "source": [
    "### 4.3.5 各种类型参数的组合\n",
    "\n",
    "参数类型之多令人眼花缭乱，我们先进行一番小结：\n",
    "\n",
    "**位置参数**：顺次赋值给相应位置的参数，是位置参数。\n",
    "\n",
    "**默认参数**：定义函数时就赋予了默认值的参数，是默认参数。\n",
    "\n",
    "**可变参数**：在函数内部自动被组装成tuple，可以用\\*list或\\*tuple传入。\n",
    "\n",
    "**关键字参数**：在函数内部自动被组装成dict，可以用\\*\\*dict传入。\n",
    "\n",
    "**必选参数 vs 可选参数**：没有设置默认值的参数是必选参数，不声明必选参数函数会报错；默认参数、可变参数、关键字参数都是可选参数。\n",
    "\n",
    "那么问题来了，如果不同类型参数放在一起会是什么个情况？首先，让我们来定义一个模拟商店谈话的函数："
   ]
  },
  {
   "cell_type": "code",
   "execution_count": null,
   "metadata": {
    "collapsed": false
   },
   "outputs": [],
   "source": [
    "def shoptalk (good, amount, soldout=False, *args, **kwargs):\n",
    "    print('- 请问有'+ good +'吗？')\n",
    "    if soldout:\n",
    "        print('- 抱歉，'+ good +'已卖完。')\n",
    "    else:\n",
    "        print('- 有，还剩' + str(amount) + '件。')\n",
    "    for arg in args:\n",
    "        print(arg)\n",
    "    print('_'*40)\n",
    "    for key,value in kwargs.items():\n",
    "        print(key,':',value)"
   ]
  },
  {
   "cell_type": "markdown",
   "metadata": {},
   "source": [
    "下面展示一个shoptalk()函数正确的使用方法，Chapter 2曾提到，Python3支持非英文字符做变量名，所以看到下面的中文参数名，请不要吃惊："
   ]
  },
  {
   "cell_type": "code",
   "execution_count": null,
   "metadata": {
    "collapsed": false,
    "scrolled": true
   },
   "outputs": [],
   "source": [
    "shoptalk('法拉利',10,False,\n",
    "         '先生您眼光不错啊！','请稍等，我这就给您安排一个导购。', \n",
    "         客户名 = '陈大明', 店员 = '薛小颖',记录时间 = '2017-10-14')\n",
    "\n",
    "#有时候代码一行写不下，可以找有逗号的地方，在后面直接按回车换行。"
   ]
  },
  {
   "cell_type": "markdown",
   "metadata": {},
   "source": [
    "此处，在调用shoptalk时，第二行是可变参数，第三行是关键词参数。\n",
    "\n",
    "**举一反三**：请改写成用元组(或列表)和字典进行参数传入的形式。"
   ]
  },
  {
   "cell_type": "code",
   "execution_count": null,
   "metadata": {
    "collapsed": false
   },
   "outputs": [],
   "source": [
    "sentences = ('先生您眼光不错啊！','请稍等，我这就给您安排一个导购。')\n",
    "info = {'客户名':'陈大明', '店员':'薛小颖','记录时间':'2017-10-14'}\n",
    "shoptalk('法拉利',10, False, *sentences, **info)"
   ]
  },
  {
   "cell_type": "markdown",
   "metadata": {},
   "source": [
    "**问题**：既然soldout是默认参数，而且False就是默认值，那能否把上面代码里的False给去了？"
   ]
  },
  {
   "cell_type": "code",
   "execution_count": null,
   "metadata": {
    "collapsed": false,
    "scrolled": true
   },
   "outputs": [],
   "source": [
    "shoptalk('法拉利',10,\n",
    "         '先生您眼光不错啊！','请稍等，我这就给您安排一个导购。', \n",
    "         客户名 = '陈大明', 店员 = '薛小颖',记录时间 = '2017-10-14')"
   ]
  },
  {
   "cell_type": "code",
   "execution_count": null,
   "metadata": {
    "collapsed": false,
    "scrolled": true
   },
   "outputs": [],
   "source": [
    "shoptalk('法拉利',10,\n",
    "         客户名 = '陈大明', 店员 = '薛小颖',记录时间 = '2017-10-14')"
   ]
  },
  {
   "cell_type": "markdown",
   "metadata": {},
   "source": [
    "**解析**：在上面的这两次调用中，第一次调用是有问题的。尽管我们输入了两个可变参数，但Python并不能自动识别我们的意图。这里，根据位置顺序，'先生您眼光不错啊！'被Python解释器认为是传入soldout参数的值（位置参数），而我们已经知道，非空字符串为True，所以这一操作改变了默认值。'请稍等，我这就给您安排一个导购。'被Python正确识别为可变参数。\n",
    "\n",
    "\n",
    "在第二次调用中，没有输入可变参数，所以没有造成混淆。\n",
    "\n",
    "若以元组或列表的方式传入可变参数，也会出现同样的问题：\n"
   ]
  },
  {
   "cell_type": "code",
   "execution_count": null,
   "metadata": {
    "collapsed": false
   },
   "outputs": [],
   "source": [
    "shoptalk('法拉利',10, *sentences, **info)"
   ]
  },
  {
   "cell_type": "markdown",
   "metadata": {},
   "source": [
    "其实也很好理解，sentences元组内的元素被\\*解压出来以后，第一个元素还是顺到了soldout参数所在的位置，自然就被视作对soldout赋值。\n",
    "\n",
    "从以上例子中，我们发现，以tuple或list形式传入的可变参数，可以向前传递。事实上，我们可以只用tuple + dict就完成shoptalk()函数的调用。"
   ]
  },
  {
   "cell_type": "code",
   "execution_count": null,
   "metadata": {
    "collapsed": true
   },
   "outputs": [],
   "source": [
    "newtuple = ('法拉利',10,False,'先生您眼光不错啊！','请稍等，我这就给您安排一个导购。')"
   ]
  },
  {
   "cell_type": "code",
   "execution_count": null,
   "metadata": {
    "collapsed": false
   },
   "outputs": [],
   "source": [
    "shoptalk(*newtuple,**info)"
   ]
  },
  {
   "cell_type": "markdown",
   "metadata": {},
   "source": [
    "同理，也可以在dict中定义必选参数、默认参数的值，以可变参数的形式传入，不过这时候不能用可变参数（请思考原因）："
   ]
  },
  {
   "cell_type": "code",
   "execution_count": null,
   "metadata": {
    "collapsed": false
   },
   "outputs": [],
   "source": [
    "newdict = {'good':'法拉利','amount':10,'soldout':False,\n",
    "           '客户名':'陈大明', '店员':'薛小颖','记录时间':'2017-10-14'}\n",
    "shoptalk(**newdict)"
   ]
  },
  {
   "cell_type": "markdown",
   "metadata": {},
   "source": [
    "这些内容，如果你感觉到一时无法接受，也怀疑其用处，那得告诉你一个好消息：**可变参数和关键字参数可能是本教程迄今为止使用频率最低的知识点。** \n",
    "\n",
    "对于一般场景，我们只需要老老实实地用好最基本的位置参数，利用好默认参数，调用函数的时候若怕出错，大不了就声明参数名。至于本教程花如此多笔墨介绍的其他玩法，可以学习但没必要强记，在看别人代码（尤其是大神写的代码）的时候还是能派上用场的。"
   ]
  },
  {
   "cell_type": "markdown",
   "metadata": {},
   "source": [
    "_____\n",
    "## 4.4 递归函数（Recursive Function）初步\n",
    "\n",
    "在函数内部，可以调用其他函数。如果一个函数调用了它自己，这就叫递归（Recursion）。这样的函数就叫做递归函数。\n",
    "\n",
    "举一个形象的例子：背对一面镜子，然后拿出手机，打开前置摄像头，对准你身后的镜子。如果角度调整好了，你会看到手机里有镜子，手机里那面镜子里头又有手机，而那个手机里还有镜子……\n",
    "\n",
    "对于初学者而言，递归函数在实战中使用频率不高。但递归作为一种编程思想，是任何学编程的人都应当理解的。本节将给大家介绍几个最基础的递归函数。更复杂的情形留到下一章。"
   ]
  },
  {
   "cell_type": "markdown",
   "metadata": {},
   "source": [
    "**问题**：请完成函数factorial_iter(n)，该函数能返回阶乘 n! = 1 x 2 x 3 x ... x n 。"
   ]
  },
  {
   "cell_type": "code",
   "execution_count": null,
   "metadata": {
    "collapsed": false
   },
   "outputs": [],
   "source": [
    "def factorial_iter(n):\n",
    "    prod = 1\n",
    "    for i in ?:\n",
    "        prod *= i\n",
    "    return prod"
   ]
  },
  {
   "cell_type": "markdown",
   "metadata": {},
   "source": [
    "上述函数使用了普通循环，并没有超出我们当前的认知。接下去，用递归实现这个函数，可以写为："
   ]
  },
  {
   "cell_type": "code",
   "execution_count": null,
   "metadata": {
    "collapsed": true
   },
   "outputs": [],
   "source": [
    "def factorial(n):\n",
    "    if n == 1:\n",
    "        return 1\n",
    "    else:\n",
    "        return n * factorial(n-1)"
   ]
  },
  {
   "cell_type": "markdown",
   "metadata": {},
   "source": [
    "接下去我们来剖析这个函数。函数输入的参数是n。在主体部分，如果n等于1，那函数直接返回1。而我们知道，1的阶乘就是1。如果n不等于1，函数返回`n * factorial(n-1)`，这个返回值，再次调用了factorial()函数，不过输入的参数等于n-1。如果n-1依旧不等于1，那么facorial(n-1)的返回值是`(n-1) * factorial(n-2)`。\n",
    "\n",
    "以factorial(5)为例，计算过程是这样的：\n",
    "\n",
    "===> `factorial(5)`\n",
    "\n",
    "===> `5 * factorial(4)`\n",
    "\n",
    "===> `5 * (4 * factorial(3))`\n",
    "\n",
    "===> `5 * (4 * (3 * factorial(2)))`\n",
    "\n",
    "===> `5 * (4 * (3 * (2 * factorial(1))))`\n",
    "\n",
    "而我们知道，factorial(1)有确定的值1，不会再调用factorial()函数。所以，这时候递归链条停止增长，之前欠下的return连环债一笔笔还清，直到算出最终结果。\n",
    "\n",
    "===> `5 * (4 * (3 * (2 * 1)))`\n",
    "\n",
    "===> `5 * (4 * (3 * 2))`\n",
    "\n",
    "===> `5 * (4 * 6)`\n",
    "\n",
    "===> `5 * 24`\n",
    "\n",
    "===> `120`\n",
    "\n",
    "如果还不明白，可以上[PythonTutor](http://www.pythontutor.com/visualize.html#code=def%20factorial%28n%29%3A%0A%20%20%20%20if%20n%20%3D%3D%201%3A%0A%20%20%20%20%20%20%20%20return%201%0A%20%20%20%20else%3A%0A%20%20%20%20%20%20%20%20return%20n%20*%20factorial%28n-1%29%0A%0Afactorial%285%29&cumulative=false&curInstr=22&heapPrimitives=false&mode=display&origin=opt-frontend.js&py=3&rawInputLstJSON=%5B%5D&textReferences=false)看这个例子的可视化版本。\n",
    "\n",
    "值得一提的是，在计算的过程中，每个factorial()函数都有自己的定义域，这些定义域里的n是相互独立的。"
   ]
  },
  {
   "cell_type": "markdown",
   "metadata": {},
   "source": [
    "从阶乘这个最基本的例子中，我们可以归纳出递归函数的两个最基本元素：\n",
    "\n",
    "1. recursive step：在设计递归函数时，我们要思考如何把一个问题划分为更小的问题。比如，把` n! `转化为` n * (n-1)! `\n",
    "\n",
    "2. base case：把问题不断化大为小，直到碰到最小的、最基本的问题，而对于这个最基本的问题，可以直接给出解。在上面的例子中，factorial(1) = 1就属于base case。\n",
    "\n",
    "递归函数的优点是定义简单，逻辑清晰。理论上，所有的递归函数都可以写成循环的方式，但循环的逻辑不如递归清晰。我们再以斐波那契数列为例。斐波那契数列是1 1 2 3 5 8 13 21 34... 从第三个数字开始，每一个数字都是前两个数字之和。现在我们想求这个数列上的第n个数字，可以用递归思想定义一个函数："
   ]
  },
  {
   "cell_type": "code",
   "execution_count": null,
   "metadata": {
    "collapsed": true
   },
   "outputs": [],
   "source": [
    "def fib(n):\n",
    "    if n == 1 or n == 2:\n",
    "        return 1\n",
    "    else:\n",
    "        return fib(n-1) + fib(n-2)"
   ]
  },
  {
   "cell_type": "code",
   "execution_count": null,
   "metadata": {
    "collapsed": false,
    "scrolled": true
   },
   "outputs": [],
   "source": [
    "print(fib(1),fib(2),fib(3),fib(4),fib(5),fib(6),fib(7))"
   ]
  },
  {
   "cell_type": "markdown",
   "metadata": {},
   "source": [
    "这个递归函数的思路是非常明确的，它就是根据斐波那契数列的定义而写的。"
   ]
  },
  {
   "cell_type": "markdown",
   "metadata": {},
   "source": [
    "**问题**：请尝试用普通的循环解决这个问题？"
   ]
  },
  {
   "cell_type": "code",
   "execution_count": null,
   "metadata": {
    "collapsed": false
   },
   "outputs": [],
   "source": [
    "def fib_iter(n):\n",
    "    if n == 1 or n == 2:\n",
    "        return 1\n",
    "    else:\n",
    "        lag1 = 1 \n",
    "        lag2 = 1\n",
    "        for i in range(?):  #请在问号处填上正确内容\n",
    "            latest = lag1 + lag2 #把前两个数加起来赋值给latest\n",
    "            lag2 = lag1 #为了进行下一次计算，之前的上一个数，现在变成了上上个数\n",
    "            lag1 = latest #而刚刚算出来的latest，就成了上一个数\n",
    "        return latest"
   ]
  },
  {
   "cell_type": "markdown",
   "metadata": {},
   "source": [
    "你也可以试着用while写这个循环。但不管你怎么写，都绕不开lag1、lag2这两个中间变量。并且，循环也不容易一次写对。就像上面这个例子里，你很难分析清楚range()里头填什么（最标准的答案是n-2）。\n",
    "\n",
    "既然递归这么好，为什么我在一开始说递归使用频率不高呢？用通俗的话讲，递归对人脑来说是个好东西，对电脑来说，要一下子创建这么多互相独立的定义域，实在是太折腾了。同样的问题，用循环去解决，速度会快很多，请对比以下例子："
   ]
  },
  {
   "cell_type": "code",
   "execution_count": null,
   "metadata": {
    "collapsed": false
   },
   "outputs": [],
   "source": [
    "%timeit factorial(50)"
   ]
  },
  {
   "cell_type": "code",
   "execution_count": null,
   "metadata": {
    "collapsed": false
   },
   "outputs": [],
   "source": [
    "%timeit factorial_iter(50)"
   ]
  },
  {
   "cell_type": "markdown",
   "metadata": {},
   "source": [
    "此外，在Python使用递归，还存在溢出的问题。通俗地讲，递归次数是有限的："
   ]
  },
  {
   "cell_type": "code",
   "execution_count": null,
   "metadata": {
    "collapsed": false
   },
   "outputs": [],
   "source": [
    "factorial(1234)"
   ]
  },
  {
   "cell_type": "markdown",
   "metadata": {},
   "source": [
    "但是不可否认学习递归思想，对于初学者而言，是快速提升编程能力的一个途径。所以在本章的作业和下一章里，我们还要再次碰到它。"
   ]
  },
  {
   "cell_type": "markdown",
   "metadata": {},
   "source": [
    "----\n",
    "## 小结"
   ]
  },
  {
   "cell_type": "markdown",
   "metadata": {},
   "source": [
    "本章学习了Python函数的基本知识，关键的内容有：\n",
    "\n",
    "- 函数的基本结构\n",
    "- return语句\n",
    "- 作用域、本地作用域和全局作用域\n",
    "- 位置参数和默认参数\n",
    "- 用递归去思考问题\n",
    "\n",
    "函数提炼出了重复性工作中的共性内容，实现了对繁琐任务、复杂任务的简化。在今后，我们还会学习如何导入别人写好的函数，这些外部函数服务于特定的目的，能让我们把注意力转移到应用层面，而不是底层实现。\n",
    "\n",
    "这么美好的东西，在学习Python之前，其实我们也遇到过了。SAS里的宏Macro，是函数；Stata里的各类command，也是函数。虽然呈现与调用的方式有差别，但它们在本质上就相当于Python函数。\n",
    "\n",
    "今后，我们要有意识地问自己，是否能用自定义函数去解决问题。"
   ]
  }
 ],
 "metadata": {
  "kernelspec": {
   "display_name": "Python 3",
   "language": "python",
   "name": "python3"
  },
  "language_info": {
   "codemirror_mode": {
    "name": "ipython",
    "version": 3
   },
   "file_extension": ".py",
   "mimetype": "text/x-python",
   "name": "python",
   "nbconvert_exporter": "python",
   "pygments_lexer": "ipython3",
   "version": "3.6.0"
  }
 },
 "nbformat": 4,
 "nbformat_minor": 2
}
