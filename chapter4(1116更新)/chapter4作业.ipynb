{
 "cells": [
  {
   "cell_type": "markdown",
   "metadata": {},
   "source": [
    "# Chapter 4. 函数 I\n",
    "\n",
    "## 作业"
   ]
  },
  {
   "cell_type": "markdown",
   "metadata": {},
   "source": [
    "----\n",
    "### task1：理解函数\n",
    "\n",
    "给定函数结构和输入值，说出函数返回值和数据类型。请在回答完问题后再用Python验证。"
   ]
  },
  {
   "cell_type": "code",
   "execution_count": null,
   "metadata": {
    "collapsed": true
   },
   "outputs": [],
   "source": [
    "def a(x):\n",
    "   '''\n",
    "   x: int or float.\n",
    "   '''\n",
    "   return x + 1"
   ]
  },
  {
   "cell_type": "markdown",
   "metadata": {},
   "source": [
    "1.1 求`a(a(a(6)))`？"
   ]
  },
  {
   "cell_type": "code",
   "execution_count": null,
   "metadata": {
    "collapsed": true
   },
   "outputs": [],
   "source": [
    "def b(x):\n",
    "   '''\n",
    "   x: int or float.\n",
    "   '''\n",
    "   return x + 1.0\n",
    "\n",
    "def c(x, y):\n",
    "   '''\n",
    "   x: int or float. \n",
    "   y: int or float.\n",
    "   '''\n",
    "   return x + y"
   ]
  },
  {
   "cell_type": "markdown",
   "metadata": {},
   "source": [
    "1.2 求`c(a(1), b(1))`？"
   ]
  },
  {
   "cell_type": "code",
   "execution_count": null,
   "metadata": {
    "collapsed": true
   },
   "outputs": [],
   "source": [
    "def d(x, y):\n",
    "   '''\n",
    "   x: Can be of any type.\n",
    "   y: Can be of any type.\n",
    "   '''\n",
    "   return x > y"
   ]
  },
  {
   "cell_type": "markdown",
   "metadata": {},
   "source": [
    "1.3 求`d('apple', 11.1)`？"
   ]
  },
  {
   "cell_type": "code",
   "execution_count": null,
   "metadata": {
    "collapsed": true
   },
   "outputs": [],
   "source": [
    "def e(x, y, z):\n",
    "   '''\n",
    "   x: Can be of any type.\n",
    "   y: Can be of any type.\n",
    "   z: Can be of any type.\n",
    "   '''\n",
    "   return x >= y and x <= z"
   ]
  },
  {
   "cell_type": "markdown",
   "metadata": {},
   "source": [
    "1.4 求`e(a(3), b(4), c(3, 4))`？"
   ]
  },
  {
   "cell_type": "markdown",
   "metadata": {},
   "source": [
    "1.5 求 a ？a 的数据类型是？"
   ]
  },
  {
   "cell_type": "code",
   "execution_count": null,
   "metadata": {
    "collapsed": true
   },
   "outputs": [],
   "source": [
    "def f(x, y, z):\n",
    "     if x:\n",
    "        return y\n",
    "     else:\n",
    "        return z\n",
    "\n",
    "def g(q, r):\n",
    "    return f(q>r, q, r)"
   ]
  },
  {
   "cell_type": "markdown",
   "metadata": {},
   "source": [
    "1.6 求`g(3, 2)`？"
   ]
  },
  {
   "cell_type": "code",
   "execution_count": null,
   "metadata": {
    "collapsed": false
   },
   "outputs": [],
   "source": [
    "x = 12\n",
    "def h(x):\n",
    "    x = x + 1\n",
    "    def i(y):\n",
    "        return x + y\n",
    "    return i(6)"
   ]
  },
  {
   "cell_type": "markdown",
   "metadata": {},
   "source": [
    "1.7 求h(x)？ "
   ]
  },
  {
   "cell_type": "code",
   "execution_count": null,
   "metadata": {
    "collapsed": false
   },
   "outputs": [],
   "source": [
    "def foo (x):\n",
    "    def bar (z, x = 0):\n",
    "        return z + x\n",
    "    return bar(3)"
   ]
  },
  {
   "cell_type": "markdown",
   "metadata": {},
   "source": [
    "1.8 求foo(5)？"
   ]
  },
  {
   "cell_type": "markdown",
   "metadata": {},
   "source": [
    "----\n",
    "### task2：纠错\n",
    "以下代码先定义了一个二元一次多项式求值函数，之后试图计算`4^2+2*4+3`却发生了错误。\n",
    "请修改代码以完成计算。\n",
    "\n",
    "提示：错误和上一问第五小题有关，也在Chapter 2提及过。"
   ]
  },
  {
   "cell_type": "code",
   "execution_count": null,
   "metadata": {
    "collapsed": false
   },
   "outputs": [],
   "source": [
    "def a(a,b,c,x):\n",
    "    return a*x**2+b*x+c\n",
    "a,b,c,x = (1,2,3,4)\n",
    "a(a,b,c,x)"
   ]
  },
  {
   "cell_type": "markdown",
   "metadata": {},
   "source": [
    "____\n",
    "### task3：构建函数\n",
    "\n",
    "请按要求设计函数："
   ]
  },
  {
   "cell_type": "markdown",
   "metadata": {},
   "source": [
    "**3.1** \n",
    "\n",
    "请根据Chapter 3最后给的综合性例子，写一个函数FileSearch()。\n",
    "\n",
    "函数的输入参数是文件夹路径和目标文件类型(txt、csv、docx等)，默认搜索txt。\n",
    "\n",
    "函数的输出是一个列表，包含相应文件夹下所有目标类型文件的文件名（带拓展名）。"
   ]
  },
  {
   "cell_type": "markdown",
   "metadata": {},
   "source": [
    "**3.2** \n",
    "\n",
    "在[Python的编程规范](https://www.python.org/dev/peps/pep-0008/)里有写到，*Function names should be lowercase, with words separated by underscores as necessary to improve readability.* 编程规范推荐我们命名函数时，用小写，必要的时候用下划线。所以，教程里面的一些驼峰式命名，不够规范。\n",
    "\n",
    "请写一个函数transfer_name()，把驼峰式命名改成小写下划线命名：\n",
    "\n",
    "举例：\n",
    "1. GetItem -> get_item\n",
    "2. getItem -> get_item\n",
    "3. doIT -> do_it\n",
    "4. SweepTheFloor -> sweep_the_floor\n",
    "\n",
    "函数的输入是驼峰式命名所对应的字符串。\n",
    "\n",
    "函数的输出是转化后的字符串。\n",
    "\n",
    "提示：你可能会用到str.isupper()方法。"
   ]
  },
  {
   "cell_type": "markdown",
   "metadata": {},
   "source": [
    "----\n",
    "### task4：构建递归函数\n",
    "\n",
    "请根据要求补全或设计函数。"
   ]
  },
  {
   "cell_type": "markdown",
   "metadata": {},
   "source": [
    "**4.1**\n",
    "\n",
    "给定myList，补全定义list_sum()函数的代码，实现对myList内部所有数字的加总求和。"
   ]
  },
  {
   "cell_type": "code",
   "execution_count": null,
   "metadata": {
    "collapsed": true
   },
   "outputs": [],
   "source": [
    "myList = (1, (2, (3, (4, (5,None)))))"
   ]
  },
  {
   "cell_type": "code",
   "execution_count": null,
   "metadata": {
    "collapsed": false
   },
   "outputs": [],
   "source": [
    "def list_sum(numbers):\n",
    "    if not numbers:\n",
    "        return ?\n",
    "    else:\n",
    "        (f, rest) = numbers\n",
    "        return ???"
   ]
  },
  {
   "cell_type": "code",
   "execution_count": null,
   "metadata": {
    "collapsed": false
   },
   "outputs": [],
   "source": [
    "list_sum(myList)"
   ]
  },
  {
   "cell_type": "markdown",
   "metadata": {},
   "source": [
    "**4.2**\n",
    "\n",
    "有一类字符串，叫做回文字符串，从左到右读和从右到左读是完全一样的，\n",
    "\n",
    "例如：`'a','bb','abCba','R128acA821r'`\n",
    "\n",
    "请使用递归思想，设计一个递归函数is_palindrome()，判断一个字符串是否是回文字符串。\n",
    "\n",
    "函数的输入是一串只包含数字和字母（不区分大小写）、不包含空格及其他字符的字符串。\n",
    "\n",
    "函数的输出是布尔值。\n",
    "\n",
    "提示1：\n",
    "```\n",
    "is_palindrome('abcddbca') == ('a' == 'a' and is_palindrome('bcddbc'))\n",
    "```\n",
    "\n",
    "提示2： 你可能会用到str.lower()"
   ]
  },
  {
   "cell_type": "markdown",
   "metadata": {},
   "source": [
    "---\n",
    "### task 5：简单算法 II\n",
    "\n",
    "\n",
    "Chapter 3作业的task4向大家展示了最基础的线性搜索算法。为了计算25的平方，我们从0开始猜，每次增加0.1，直到猜测值的平方与25的距离小于0.01。显然，这个算法是很笨的。\n",
    "\n",
    "有比这个快得多的算法，称为二分法，请观察以下代码，理解二分法的基本思想："
   ]
  },
  {
   "cell_type": "code",
   "execution_count": null,
   "metadata": {
    "collapsed": true
   },
   "outputs": [],
   "source": [
    "def binary_sqrt(num):    \n",
    "    epsilon = 0.01\n",
    "    y = num / 2.0  \n",
    "    low = 0.0 \n",
    "    high = num  \n",
    "    count = 1  \n",
    "    while abs(y**2 - num) > epsilon:  \n",
    "        print (count, y)  \n",
    "        count += 1          \n",
    "        if y * y > num:  \n",
    "            high = y   \n",
    "        else:  \n",
    "            low = y  \n",
    "        y = (high + low)/2   \n",
    "    return y  "
   ]
  },
  {
   "cell_type": "code",
   "execution_count": null,
   "metadata": {
    "collapsed": false,
    "scrolled": true
   },
   "outputs": [],
   "source": [
    "binary_sqrt(121)"
   ]
  },
  {
   "cell_type": "markdown",
   "metadata": {},
   "source": [
    "**选做题**：\n",
    "\n",
    "有一个**有序**列表L，如`[1,3,5,4,7,12,21,33,34,36,77,78,100]`\n",
    "\n",
    "假设我们不知道list.index()。\n",
    "\n",
    "现在我们要设计一个函数binary_search()，判断某个整数型元素t是否属于列表L，如果属于该列表，返回其对应的索引；如果不属于该列表，返回False。\n",
    "\n",
    "如果用线性搜索法，很简单，从第一个元素开始逐一比较，一旦相等，就返回对应的索引。因为列表已经是排好序的，所以当用于比较的元素比t大时，证明这个列表里没有t，可以直接返回False了。但这个方法有问题：一旦列表的很长，且t在列表中的排序很靠后，计算就比较慢（请思考什么是最坏的情况）。\n",
    "\n",
    "现在，请用二分法的思想解决这个问题。\n",
    "\n",
    "*这道题可能比较难，但对提升你的编程能力绝对有帮助！*"
   ]
  }
 ],
 "metadata": {
  "kernelspec": {
   "display_name": "Python 3",
   "language": "python",
   "name": "python3"
  },
  "language_info": {
   "codemirror_mode": {
    "name": "ipython",
    "version": 3
   },
   "file_extension": ".py",
   "mimetype": "text/x-python",
   "name": "python",
   "nbconvert_exporter": "python",
   "pygments_lexer": "ipython3",
   "version": "3.6.0"
  }
 },
 "nbformat": 4,
 "nbformat_minor": 2
}
