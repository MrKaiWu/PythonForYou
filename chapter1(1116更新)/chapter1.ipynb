{
 "cells": [
  {
   "cell_type": "markdown",
   "metadata": {},
   "source": [
    "# 作业0：熟悉Jupyter Notebook\n",
    "\n",
    "\n",
    "下面我们将通过完成几个简单的任务来达到熟悉平台的目标."
   ]
  },
  {
   "cell_type": "markdown",
   "metadata": {},
   "source": [
    "-----\n",
    "## 任务1：新建个人目录/程序/终端环境\n",
    "\n",
    "![](pics/explorer.png)\n",
    "\n",
    "点击右上角 'new' 按钮,在弹出菜单中:\n",
    "- new-> python3 : 创建一个python2的程序文档\n",
    "- new-> folder  : 创建一个目录\n",
    "\n",
    "点击右上角 'upload' 按钮, 可以“上传”个人的文件"
   ]
  },
  {
   "cell_type": "markdown",
   "metadata": {},
   "source": [
    "-----\n",
    "## 任务2：熟悉工具栏操作\n",
    "\n",
    "![](pics/toolbar.png)\n",
    "\n",
    "上图所示区域就是工具栏。鼠标悬停可以显示各按钮含义。\n",
    "\n",
    "请通过工具栏操作完成下面的练习:\n",
    "\n",
    "（注意：在Python中#号开头，代表注释开始，注释可以执行，但不会有任何反馈）"
   ]
  },
  {
   "cell_type": "code",
   "execution_count": null,
   "metadata": {
    "collapsed": true
   },
   "outputs": [],
   "source": [
    "#操作练习1: 把我这行复制一份..."
   ]
  },
  {
   "cell_type": "code",
   "execution_count": null,
   "metadata": {
    "collapsed": true
   },
   "outputs": [],
   "source": [
    "#操作练习2: 把我移动到上面去...\n",
    "#事实上同一个notebook中各种代码框，不管是否已执行，都是可以自由移动的。"
   ]
  },
  {
   "cell_type": "markdown",
   "metadata": {},
   "source": [
    "-----\n",
    "\n",
    "## 任务3：熟悉快捷键操作\n",
    "\n",
    "除了点击工具栏,大部分操作都可以通过键盘快捷键来完成的, 这会大大提高操作的效率。\n",
    "\n",
    "详细的键盘快捷操作信息可以点击工具栏的如下按钮查看到:![](pics/shortcut.png)\n",
    "\n",
    "\n",
    "最最常用的键盘快捷键:\n",
    "- ↑和↓ ： 切换代码框（cell） \n",
    "- shift + enter : 运行当前cell并挪动到下一个cell\n",
    "- ctrl + enter ：运行当前cell，保持在当前cell\n",
    "- b : 在当前cell下面插入新cell\n",
    "- a : 在当前cell上面插入新cell\n",
    "- dd (敲击d键两下): 删除当前cell\n",
    "- m : 将当前cell由code模式转换成markdown模式\n",
    "- y : 将当前cell由markdown模式转换成code模式\n",
    "\n",
    "下面,你需要通过键盘操作的方式完成下面的练习:"
   ]
  },
  {
   "cell_type": "code",
   "execution_count": null,
   "metadata": {
    "collapsed": false
   },
   "outputs": [],
   "source": [
    "#操作练习: 敲击 b 键,在我下面增加一行..."
   ]
  },
  {
   "cell_type": "code",
   "execution_count": null,
   "metadata": {
    "collapsed": true
   },
   "outputs": [],
   "source": [
    "##### 操作练习: 敲击 m 键,把我转成markdown并运行"
   ]
  },
  {
   "cell_type": "markdown",
   "metadata": {},
   "source": [
    "#操作练习: 敲击 y 键,把我转成code并运行\n",
    "\n",
    "print(\"Hello, world!\")"
   ]
  },
  {
   "cell_type": "markdown",
   "metadata": {},
   "source": [
    "\n",
    "### 关于markdown\n",
    "\n",
    "Markdown 是一种「电子邮件」风格的「标记语言」，作为对比，我们经常看到的用于写网页的html语言也是一门标记语言。关于md具体的介绍我不做展开，可以参阅[献给写作者的 Markdown 新手指南](http://www.jianshu.com/p/q81RER/)。作为简单了解，大家可以双击本Notebook中的任意一个文本形式的cell，即可看到源代码，不出几分钟就可以弄清我是怎么利用Markdown实现设置各级标题、插入图片、列举等功能的。Markdown cell\n",
    "\n",
    "事实上，内嵌Markdown也是Jupyter Notebook的一大亮点。Markdown与Python code结合，这感觉就像在写文章的过程中穿插代码，用户体验非常好。\n"
   ]
  },
  {
   "cell_type": "markdown",
   "metadata": {},
   "source": [
    "-----\n",
    "## 任务4：自由操作\n",
    "\n",
    "关于菜单栏，我重点说一下Kernel菜单。当我们遇到程序出故障时，可以在kernel菜单进行Interrupt。如果界面右上方显示not connected提示，表明和Python的连接丢失了，可以在Kernel菜单进行reconnect。破罐子破摔的时候，我们可以选择restart，但这会丢失所有之前已经存储在内存中内容。当然有时候我们想从头到尾跑一遍这个notebook中的所有代码，这时可以restart & run all。如果我们单纯只是想清空所有输出，也可以用restart & clear output。\n",
    "\n",
    "请大家自由尝试。最后，不要忘了教程里强调过的正确的退出方式。"
   ]
  }
 ],
 "metadata": {
  "celltoolbar": "Raw Cell Format",
  "kernelspec": {
   "display_name": "Python 3",
   "language": "python",
   "name": "python3"
  },
  "language_info": {
   "codemirror_mode": {
    "name": "ipython",
    "version": 3
   },
   "file_extension": ".py",
   "mimetype": "text/x-python",
   "name": "python",
   "nbconvert_exporter": "python",
   "pygments_lexer": "ipython3",
   "version": "3.6.0"
  }
 },
 "nbformat": 4,
 "nbformat_minor": 2
}
