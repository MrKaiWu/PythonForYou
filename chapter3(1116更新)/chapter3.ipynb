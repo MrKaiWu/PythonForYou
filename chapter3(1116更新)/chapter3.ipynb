{
 "cells": [
  {
   "cell_type": "markdown",
   "metadata": {},
   "source": [
    "# Chapter 3. Python 基础 II\n",
    "\n",
    "在本章,你会了解到：\n",
    "- 条件判断\n",
    "- 循环\n",
    "- 列表生成式\n",
    "\n",
    "最后，本章节会举一个综合性的例子，将Chapter2 、Chapter3的内容尽量串联起来。\n",
    "\n",
    "在进入本章的学习之前，默认你已经认真看了Chapter 2，做了作业，熟悉了基本的数据类型和数据结构。从本章起，我们开始真正意义上的Python编程。事实上，如果你使用过Stata和SAS，对if、else、for、while等应该不陌生。"
   ]
  },
  {
   "cell_type": "markdown",
   "metadata": {},
   "source": [
    "____\n",
    "## 3.1 条件判断\n",
    "\n",
    "计算机之所以能做很多自动化的任务，因为它可以自己做条件判断。\n",
    "比如，输入用户年龄，根据年龄打印不同的内容，在Python程序中，用if语句实现："
   ]
  },
  {
   "cell_type": "code",
   "execution_count": null,
   "metadata": {
    "collapsed": false
   },
   "outputs": [],
   "source": [
    "age = 20\n",
    "if age >= 18:\n",
    "    print('Your age is', age)\n",
    "    print('You are an adult')"
   ]
  },
  {
   "cell_type": "markdown",
   "metadata": {},
   "source": [
    "在这里，很简单，如果`age >= 18`为True，则把下面的两个print语句执行了。\n",
    "\n",
    "注意，不要少写了冒号。\n",
    "\n",
    "另外，请格外注意这里的缩进（Indentation），print的缩进是四个空格，或者说一个制表符（按一下Tab键），不过我个人推荐用四个空格，因为emipirical evidence shows that用四个空格做缩进的Python程序员薪酬水平更高。缩进在Python中很重要，代表了层级关系。如果缩进没有正确代表你设想的意思，那即使程序没有出错，输出结果也可能是错的。"
   ]
  },
  {
   "cell_type": "markdown",
   "metadata": {},
   "source": [
    "**问题**：比较以下两段代码，解释为什么输出结果不同。"
   ]
  },
  {
   "cell_type": "code",
   "execution_count": null,
   "metadata": {
    "collapsed": false,
    "scrolled": true
   },
   "outputs": [],
   "source": [
    "age = 15\n",
    "if age >= 18:\n",
    "    print('above 18')\n",
    "if age <= 20:\n",
    "    print('below 20')"
   ]
  },
  {
   "cell_type": "code",
   "execution_count": null,
   "metadata": {
    "collapsed": true
   },
   "outputs": [],
   "source": [
    "age = 15\n",
    "if age >= 18:\n",
    "    print('above 18')\n",
    "    if age <= 20:\n",
    "        print('below 20')"
   ]
  },
  {
   "cell_type": "markdown",
   "metadata": {},
   "source": [
    "**解析**：第二段代码中，第二个if语句与第一个print语句平级，都在第一个if语句之下。由于`age >= 18`为False，下面这些语句并不会被执行。"
   ]
  },
  {
   "cell_type": "markdown",
   "metadata": {},
   "source": [
    "也可以给if添加一个else语句，意思是，如果if判断是False，不要执行if的内容，去把else执行了："
   ]
  },
  {
   "cell_type": "code",
   "execution_count": null,
   "metadata": {
    "collapsed": false
   },
   "outputs": [],
   "source": [
    "age = 3\n",
    "print('your age is', age)\n",
    "if age >= 18:\n",
    "    print('You are an adult')\n",
    "else:\n",
    "    print('You are a teenager')"
   ]
  },
  {
   "cell_type": "markdown",
   "metadata": {},
   "source": [
    "当然上面的判断是很粗略的，完全可以用elif做更细致的判断,elif其实就是else if的缩写："
   ]
  },
  {
   "cell_type": "code",
   "execution_count": null,
   "metadata": {
    "collapsed": false
   },
   "outputs": [],
   "source": [
    "age = 3\n",
    "print('your age is', age)\n",
    "if age >= 18:\n",
    "    print('You are an adult')\n",
    "elif age >= 6:\n",
    "    print('You are a teenager')\n",
    "else:\n",
    "    print('You are a kid')"
   ]
  },
  {
   "cell_type": "markdown",
   "metadata": {},
   "source": [
    "elif是else if的缩写，完全可以有多个elif，所以if语句的完整形式就是：\n",
    "\n",
    "`\n",
    "if 条件判断1:\n",
    "    执行1\n",
    "elif 条件判断2:\n",
    "    执行2\n",
    "elif 条件判断3:\n",
    "    执行3\n",
    "else:\n",
    "    执行4\n",
    "`"
   ]
  },
  {
   "cell_type": "markdown",
   "metadata": {},
   "source": [
    "**问题**：请猜测以下代码的输出结果并验证。请解释原因。"
   ]
  },
  {
   "cell_type": "code",
   "execution_count": null,
   "metadata": {
    "collapsed": false
   },
   "outputs": [],
   "source": [
    "age = 20\n",
    "if age >= 6:\n",
    "    print('teenager')\n",
    "elif age >= 18:\n",
    "    print('adult')\n",
    "else:\n",
    "    print('kid')"
   ]
  },
  {
   "cell_type": "markdown",
   "metadata": {},
   "source": [
    "**解析**：if语句执行有个特点，它是从上往下判断，如果在某个判断上是True，把该判断对应的语句执行后，就忽略掉剩下的elif和else"
   ]
  },
  {
   "cell_type": "markdown",
   "metadata": {},
   "source": [
    "**问题**：Chapter2作业的**Task 1：神奇的布尔**，你还有印象吗？只要是非零字符、费空字符串、非空list、非空tuple等对象，用bool()函数转化为布尔值后都是True。请根据这个现象解释以下几个if语句："
   ]
  },
  {
   "cell_type": "code",
   "execution_count": null,
   "metadata": {
    "collapsed": false
   },
   "outputs": [],
   "source": [
    "if 1:\n",
    "    print(1)"
   ]
  },
  {
   "cell_type": "code",
   "execution_count": null,
   "metadata": {
    "collapsed": true
   },
   "outputs": [],
   "source": [
    "if 0:\n",
    "    print(0)"
   ]
  },
  {
   "cell_type": "code",
   "execution_count": null,
   "metadata": {
    "collapsed": false
   },
   "outputs": [],
   "source": [
    "L = []\n",
    "if not L:\n",
    "    L.append(1)\n",
    "L"
   ]
  },
  {
   "cell_type": "markdown",
   "metadata": {},
   "source": [
    "**补充**：上一章介绍了一些运算符号，但漏了 `!=` 。 `==` 表示判断两个对象的值是否相等，`!=` 表示判断两个对象的值是否不等。"
   ]
  },
  {
   "cell_type": "code",
   "execution_count": null,
   "metadata": {
    "collapsed": false
   },
   "outputs": [],
   "source": [
    "1 != 2"
   ]
  },
  {
   "cell_type": "markdown",
   "metadata": {},
   "source": [
    "____\n",
    "## 3.2 循环（Loop）\n",
    "当我们需要大量做重复性的工作时，就需要循环。\n",
    "\n",
    "举个例子，要计算1+2+3，我们可以直接写表达式："
   ]
  },
  {
   "cell_type": "code",
   "execution_count": null,
   "metadata": {
    "collapsed": false
   },
   "outputs": [],
   "source": [
    "1 + 2 + 3"
   ]
  },
  {
   "cell_type": "markdown",
   "metadata": {},
   "source": [
    "要计算1加到10，我们也可以勉强写出来："
   ]
  },
  {
   "cell_type": "code",
   "execution_count": null,
   "metadata": {
    "collapsed": false
   },
   "outputs": [],
   "source": [
    "1 + 2 +3 + 4 + 5 + 6 + 7 + 8 + 9 + 10 "
   ]
  },
  {
   "cell_type": "markdown",
   "metadata": {},
   "source": [
    "但从1加到1000呢？一千次加法，不可能全部手写，这时候循环就派上用场了。"
   ]
  },
  {
   "cell_type": "markdown",
   "metadata": {},
   "source": [
    "\n",
    "### 3.2.1 for循环（for loop）\n",
    "\n",
    "Python的循环语句有两种，第一种的形式是`for ... in ...`："
   ]
  },
  {
   "cell_type": "code",
   "execution_count": null,
   "metadata": {
    "collapsed": false
   },
   "outputs": [],
   "source": [
    "names = ['Michael', 'Bob', 'Tracy']\n",
    "for name in names:\n",
    "    print(name)"
   ]
  },
  {
   "cell_type": "markdown",
   "metadata": {},
   "source": [
    "上一段代码，把names list中的每一个元素赋值给name，然后执行缩进块的语句。最终的结果是依次把names list中的元素打印出来了。我们说，For循环完成了对该列表的遍历。\n",
    "\n",
    "注意，for后面跟着的变量名不是唯一的，只要符合变量命名规则即可，这里命名为name是出于可读性考虑。\n",
    "\n",
    "同样地，在使用循环时也请注意冒号和缩进。"
   ]
  },
  {
   "cell_type": "markdown",
   "metadata": {},
   "source": [
    "**问题**：如果你认真阅读了Chapter 2的内容，应该对`range()`函数有印象。`range(1,1001)`能生成从1到1000的整数，在这个基础之上，请用for循环实现开头的计算问题。"
   ]
  },
  {
   "cell_type": "code",
   "execution_count": null,
   "metadata": {
    "collapsed": false
   },
   "outputs": [],
   "source": [
    "#查看range函数的帮助\n",
    "range?\n",
    "#也可以用help(range)"
   ]
  },
  {
   "cell_type": "code",
   "execution_count": null,
   "metadata": {
    "collapsed": false
   },
   "outputs": [],
   "source": [
    "result = 0\n",
    "for num in range(1,1001):\n",
    "    result = result + num\n",
    "print(result)"
   ]
  },
  {
   "cell_type": "markdown",
   "metadata": {},
   "source": [
    "**解析**：在上面这段代码中，我们先初始化结果变量的值为0，接着对range(1,1001)进行遍历，对每个元素，都赋值给num，然后把num和result相加，覆盖原result。\n",
    "\n",
    "当然，Python并不需要这么繁琐的步骤就能实现该求和，请参考下方所示sum()函数。"
   ]
  },
  {
   "cell_type": "code",
   "execution_count": null,
   "metadata": {
    "collapsed": false,
    "scrolled": false
   },
   "outputs": [],
   "source": [
    "sum(range(1,1001))"
   ]
  },
  {
   "cell_type": "markdown",
   "metadata": {},
   "source": [
    "在原变量的基础上加一个值、再覆盖原变量的操作，在Python中可以简写，请观察以下代码："
   ]
  },
  {
   "cell_type": "code",
   "execution_count": null,
   "metadata": {
    "collapsed": false
   },
   "outputs": [],
   "source": [
    "result = 0\n",
    "for num in range(1,1001):\n",
    "    result +=  num\n",
    "print(result)"
   ]
  },
  {
   "cell_type": "markdown",
   "metadata": {},
   "source": [
    "理解了 `+=` 的含义，自然也能理解`-=`、`*=`、 `/=`等运算符的含义。今后我们统一采用简写。"
   ]
  },
  {
   "cell_type": "markdown",
   "metadata": {},
   "source": [
    "### 3.2.2 while循环（while loop）\n",
    "第二种循环是while循环，只要条件满足，就不断循环，条件一旦不满足时退出循环。比如我们要计算100以内所有奇数之和，可以用while循环实现："
   ]
  },
  {
   "cell_type": "code",
   "execution_count": null,
   "metadata": {
    "collapsed": false
   },
   "outputs": [],
   "source": [
    "result = 0\n",
    "n = 99\n",
    "while n > 0:\n",
    "    result +=  n\n",
    "    n -= 2\n",
    "print(result)"
   ]
  },
  {
   "cell_type": "markdown",
   "metadata": {},
   "source": [
    "**问题**：n的最终值是多少？"
   ]
  },
  {
   "cell_type": "code",
   "execution_count": null,
   "metadata": {
    "collapsed": false
   },
   "outputs": [],
   "source": [
    "print(n)"
   ]
  },
  {
   "cell_type": "markdown",
   "metadata": {},
   "source": [
    "**解析**：在上述循环代码中，n的初始值为99。之后进入while循环，每轮循环中，在result原值的基础上加上n，然后对n减去2。循环到某一轮时，n的取值为1，在执行完`result +=  1`之后，执行`n -= 2`，n的值变为-1，而这不符合 `n>0`，于是while循环终止。"
   ]
  },
  {
   "cell_type": "markdown",
   "metadata": {},
   "source": [
    "### 3.2.3 用break终止循环\n",
    "\n",
    "在循环中，break语句配合if语句，可以在满足条件的时候提前退出循环。例如，本来要循环打印1～10的数字："
   ]
  },
  {
   "cell_type": "code",
   "execution_count": null,
   "metadata": {
    "collapsed": false,
    "scrolled": true
   },
   "outputs": [],
   "source": [
    "n = 1\n",
    "while n <= 10:\n",
    "    print(n)\n",
    "    n = n + 1\n",
    "print('END')"
   ]
  },
  {
   "cell_type": "markdown",
   "metadata": {},
   "source": [
    "上面的代码可以打印出1~10。\n",
    "\n",
    "如果要提前结束循环，可以用break语句："
   ]
  },
  {
   "cell_type": "code",
   "execution_count": null,
   "metadata": {
    "collapsed": false
   },
   "outputs": [],
   "source": [
    "n = 1\n",
    "while n <= 10:\n",
    "    if n > 5: # 当n = 6时，条件满足，执行break语句\n",
    "        break # break语句会结束当前循环\n",
    "    print(n)\n",
    "    n = n + 1\n",
    "print('END')"
   ]
  },
  {
   "cell_type": "markdown",
   "metadata": {},
   "source": [
    "**举一反三**：请用for循环复现上一段代码的输出结果。"
   ]
  },
  {
   "cell_type": "markdown",
   "metadata": {},
   "source": [
    "### 3.2.4 用continue跳至下一轮循环\n",
    "在循环过程中，也可以通过continue语句，跳过当前的这次循环，直接开始下一次循环。和break循环一样，continue一般也会配合if使用。\n",
    "\n",
    "我们来看一个例子，先用for循环打印出从1到10的数字："
   ]
  },
  {
   "cell_type": "code",
   "execution_count": null,
   "metadata": {
    "collapsed": false
   },
   "outputs": [],
   "source": [
    "for i in range(1,11):\n",
    "    print(i)\n",
    "print('End')"
   ]
  },
  {
   "cell_type": "markdown",
   "metadata": {},
   "source": [
    "然后，我们利用contine语句，让这个for循环只打印出奇数："
   ]
  },
  {
   "cell_type": "code",
   "execution_count": null,
   "metadata": {
    "collapsed": false
   },
   "outputs": [],
   "source": [
    "for i in range(1,11):\n",
    "    if i % 2 == 0:  #如果i是偶数\n",
    "        continue    #执行continue，直接进入下一个循环，下面这个print语句不会执行。\n",
    "    print(i)\n",
    "print('End')"
   ]
  },
  {
   "cell_type": "markdown",
   "metadata": {},
   "source": [
    "**补充**： %是求余运算符，Chapter2中漏讲了。"
   ]
  },
  {
   "cell_type": "markdown",
   "metadata": {},
   "source": [
    "当然，作为一个提醒，如果你认真看了range()函数的帮助性说明，就能知道以上代码不用这么复杂。"
   ]
  },
  {
   "cell_type": "code",
   "execution_count": null,
   "metadata": {
    "collapsed": false,
    "scrolled": true
   },
   "outputs": [],
   "source": [
    "for i in range(1,11,2):\n",
    "    print(i)\n",
    "print('End')"
   ]
  },
  {
   "cell_type": "markdown",
   "metadata": {},
   "source": [
    "**举一反三**：你可以试下用while循环实现相同功能，但我保证不会比上面这个for循环更简短。"
   ]
  },
  {
   "cell_type": "markdown",
   "metadata": {},
   "source": [
    "### 3.2.5 while or for？\n",
    "\n",
    "大部分情况下，while和for循环是可以互相转化的，但是：\n",
    "\n",
    "1. 从编程的角度来说，凡是能用for循环实现的，尽量不要用while实现。请仔细观察以上的for和while循环。你会发现，在使用while循环的时候，我们需要在while循环外部定义初始值(如，n = 1)，还要在while循环内部更新n以实现循环的有效更迭。并且，还要正确写出跳出循环的条件，这本身也是一件极易出错的事情。相比之下，for循环代码量少，并且把我们能够遍历的元素固定死了，很难出错。\n",
    "\n",
    "2. 当你很清楚循环的次数时（至少能够用计算器算清楚），请尽量用for循环。但当你对会发生几次循环没概念时，while循环更为方便。接下去举一个例子："
   ]
  },
  {
   "cell_type": "code",
   "execution_count": null,
   "metadata": {
    "collapsed": false
   },
   "outputs": [],
   "source": [
    "product = 1\n",
    "n = 0\n",
    "while product <= 123456789987654321:\n",
    "    n += 1\n",
    "    product *= n\n",
    "print(n)"
   ]
  },
  {
   "cell_type": "markdown",
   "metadata": {},
   "source": [
    "上一段代码的含义是，求满足`1*2*3*...n > 123456789987654321`的n的最小值。在这种情况下，我们不能轻易知道循环会进行几轮，所以一般借助while循环。\n",
    "\n",
    "**举一反三**：请“强行”用for循环复现以上代码的功能。"
   ]
  },
  {
   "cell_type": "code",
   "execution_count": null,
   "metadata": {
    "collapsed": false
   },
   "outputs": [],
   "source": [
    "product = 1\n",
    "for n in range(1,100):\n",
    "    product *= n\n",
    "    if product > 123456789987654321:     \n",
    "        break\n",
    "print(n)"
   ]
  },
  {
   "cell_type": "markdown",
   "metadata": {},
   "source": [
    "**解析**：在用for循环复现同样的功能时，因为一开始不知道循环会在什么位置停下来，所以我们在使用range()函数的时候先估计了一个n的区间。在循环过程中，我们又加了一个判断和跳出命令，跟while循环相比，这个for循环反而显得更繁琐了。\n",
    "\n",
    "以上例子还告诉我们，在使用break、continue语句之前，还可以先想想能不能换一种循环句式。"
   ]
  },
  {
   "cell_type": "markdown",
   "metadata": {},
   "source": [
    "### 3.2.6 死循环\n",
    "\n",
    "有些时候，如果代码写得有问题，会让程序陷入“死循环”，也就是永远循环下去，根本停不下来："
   ]
  },
  {
   "cell_type": "code",
   "execution_count": null,
   "metadata": {
    "collapsed": false
   },
   "outputs": [],
   "source": [
    "n = 0\n",
    "while True:\n",
    "    n += 1\n",
    "    n -= 1"
   ]
  },
  {
   "cell_type": "markdown",
   "metadata": {},
   "source": [
    "上一个cell的左边一直显示In [\\*]，表明代码还在运行之中。这就是一个死循环的典型，因为True总是为True。在Jupyter Notebook中，我们可以选中这个代码框，再按工具栏的interrupt kernel按钮（类似于停止播放键）打断这个循环。**如果运行了上边的代码，请务必进行interrupt操作，否则后续cell永远在内存的计算队列中排着，无法运行**\n",
    "\n",
    "如果是在命令提示符的Python操作界面，或者在Spyder的Python console和IPython console里，可以用Ctrl+C打断程序，或者强制结束Python进程。"
   ]
  },
  {
   "cell_type": "markdown",
   "metadata": {},
   "source": [
    "----\n",
    "## 3.3 迭代（Iteration）\n",
    "通过for循环遍历一个对象，这就是迭代。\n",
    "我们先来看一个错误的代码："
   ]
  },
  {
   "cell_type": "code",
   "execution_count": null,
   "metadata": {
    "collapsed": false
   },
   "outputs": [],
   "source": [
    "for x in 10:\n",
    "    print(x)"
   ]
  },
  {
   "cell_type": "markdown",
   "metadata": {},
   "source": [
    "执行以上代码会报错，错误信息是`'int' object is not iterable`，告诉我们整数对象是不可迭代的。这其实很容易理解，10就只是一个数字而已，对其进行“迭代”岂不是多此一举？那么什么是可迭代对象（iterable）呢？\n",
    "\n",
    "在**3.2 循环**中，我们知道list是可以迭代的。这其实也很容易理解，list就相当于一个队列，排成队的元素自然可以一个个清点。\n",
    "\n",
    "**3.2 循环**广泛使用range()函数来产生等差整数数列，既然是数列，那自然也是可以迭代的。\n",
    "\n",
    "除此以外，如果你举一反三，应该能推断出tuple、字符串也是可迭代的，因为它们从概念上和list差不多，都是一个序列："
   ]
  },
  {
   "cell_type": "code",
   "execution_count": null,
   "metadata": {
    "collapsed": false
   },
   "outputs": [],
   "source": [
    "t = (1,2,3,4,5)\n",
    "for n in t:\n",
    "    print(n)"
   ]
  },
  {
   "cell_type": "code",
   "execution_count": null,
   "metadata": {
    "collapsed": false
   },
   "outputs": [],
   "source": [
    "s = 'abcde'\n",
    "for c in s:\n",
    "    print(c)"
   ]
  },
  {
   "cell_type": "markdown",
   "metadata": {},
   "source": [
    "除了简单的`for x in y:`这种迭代方式以外，还有一些fancy的玩法："
   ]
  },
  {
   "cell_type": "code",
   "execution_count": null,
   "metadata": {
    "collapsed": false
   },
   "outputs": [],
   "source": [
    "x,y = (1,2)\n",
    "print(x,y)"
   ]
  },
  {
   "cell_type": "code",
   "execution_count": null,
   "metadata": {
    "collapsed": false
   },
   "outputs": [],
   "source": [
    "for x,y in [(1,2),(3,4),(5,6)]:\n",
    "    print(x,y)"
   ]
  },
  {
   "cell_type": "markdown",
   "metadata": {},
   "source": [
    "在上面这个迭代中，迭代对象本身是一个list，list里的元素是长度为2的tuple。在进行遍历时，展开每一个tuple并把两个元素的值顺次赋给x和y。"
   ]
  },
  {
   "cell_type": "markdown",
   "metadata": {},
   "source": [
    "**补充**：当我们需要交换两个对象的值时，用x,y = y,x的赋值方式，就能避免创建第三个中间变量："
   ]
  },
  {
   "cell_type": "code",
   "execution_count": null,
   "metadata": {
    "collapsed": false
   },
   "outputs": [],
   "source": [
    "x = 1\n",
    "y = 2\n",
    "x,y = y,x\n",
    "print(\"x:\",x,\"\\ny:\",y)"
   ]
  },
  {
   "cell_type": "raw",
   "metadata": {},
   "source": [
    "如果我们不仅需要遍历，还要知道取出的元素在iterable内部的序号，则可以使用enumerate()函数："
   ]
  },
  {
   "cell_type": "code",
   "execution_count": null,
   "metadata": {
    "collapsed": true
   },
   "outputs": [],
   "source": [
    "enumerate?\n",
    "#注意看enumerate的说明，括号内部传入的对象就必须是一个iterable。"
   ]
  },
  {
   "cell_type": "code",
   "execution_count": null,
   "metadata": {
    "collapsed": false
   },
   "outputs": [],
   "source": [
    "for i, value in enumerate(['A', 'B', 'C']):\n",
    "    print(i, value)"
   ]
  },
  {
   "cell_type": "code",
   "execution_count": null,
   "metadata": {
    "collapsed": false
   },
   "outputs": [],
   "source": [
    "for i in range(len(['A','B','C'])):\n",
    "    print(i,['A','B','C'][i])"
   ]
  },
  {
   "cell_type": "markdown",
   "metadata": {},
   "source": [
    "以上两段代码从功能上是等同的，但用enumerate更简洁、易读。"
   ]
  },
  {
   "cell_type": "markdown",
   "metadata": {},
   "source": [
    "dict和set这类无序的数据类型，也可以迭代。dict是由键值对组成的，我们既可以对key进行迭代，也可以对value进行迭代，还可以对key、value同时迭代："
   ]
  },
  {
   "cell_type": "code",
   "execution_count": null,
   "metadata": {
    "collapsed": true
   },
   "outputs": [],
   "source": [
    "d = {'Michael':95,'Bob':75,'Tracy':85}"
   ]
  },
  {
   "cell_type": "code",
   "execution_count": null,
   "metadata": {
    "collapsed": false
   },
   "outputs": [],
   "source": [
    "for key in d.keys():\n",
    "    print(key)"
   ]
  },
  {
   "cell_type": "code",
   "execution_count": null,
   "metadata": {
    "collapsed": false
   },
   "outputs": [],
   "source": [
    "for value in d.values():\n",
    "    print(value)"
   ]
  },
  {
   "cell_type": "code",
   "execution_count": null,
   "metadata": {
    "collapsed": false,
    "scrolled": true
   },
   "outputs": [],
   "source": [
    "for k,v in d.items():\n",
    "    print(k,v)"
   ]
  },
  {
   "cell_type": "markdown",
   "metadata": {},
   "source": [
    "如果你足够细心，会发现在上面这些介绍过的可迭代对象中，range()、dict.keys()、dict.values、dict.items()和略显不同，我们先来看看它们返回了什么："
   ]
  },
  {
   "cell_type": "code",
   "execution_count": null,
   "metadata": {
    "collapsed": false
   },
   "outputs": [],
   "source": [
    "range(10)"
   ]
  },
  {
   "cell_type": "code",
   "execution_count": null,
   "metadata": {
    "collapsed": false
   },
   "outputs": [],
   "source": [
    "type(range(10))"
   ]
  },
  {
   "cell_type": "code",
   "execution_count": null,
   "metadata": {
    "collapsed": false
   },
   "outputs": [],
   "source": [
    "d.keys()"
   ]
  },
  {
   "cell_type": "code",
   "execution_count": null,
   "metadata": {
    "collapsed": false
   },
   "outputs": [],
   "source": [
    "type(d.keys())"
   ]
  },
  {
   "cell_type": "code",
   "execution_count": null,
   "metadata": {
    "collapsed": false
   },
   "outputs": [],
   "source": [
    "d.values()"
   ]
  },
  {
   "cell_type": "code",
   "execution_count": null,
   "metadata": {
    "collapsed": false
   },
   "outputs": [],
   "source": [
    "type(d.values())"
   ]
  },
  {
   "cell_type": "code",
   "execution_count": null,
   "metadata": {
    "collapsed": false
   },
   "outputs": [],
   "source": [
    "d.items()"
   ]
  },
  {
   "cell_type": "code",
   "execution_count": null,
   "metadata": {
    "collapsed": false
   },
   "outputs": [],
   "source": [
    "type(d.items())"
   ]
  },
  {
   "cell_type": "markdown",
   "metadata": {},
   "source": [
    "range(1000)并没有返回一个由数字0、1到999组成的list，返回的类型(type)是range。dict.keys()、dict.values()和dict.items()返回的也不是列表，尽管我们能从返回值中看到一个列表。\n",
    "\n",
    "如果要获取这个列表也很简单，用list()就行了："
   ]
  },
  {
   "cell_type": "code",
   "execution_count": null,
   "metadata": {
    "collapsed": false
   },
   "outputs": [],
   "source": [
    "list(range(10))"
   ]
  },
  {
   "cell_type": "code",
   "execution_count": null,
   "metadata": {
    "collapsed": false
   },
   "outputs": [],
   "source": [
    "print(list(d.keys()))\n",
    "print(list(d.values()))\n",
    "print(list(d.items()))"
   ]
  },
  {
   "cell_type": "markdown",
   "metadata": {},
   "source": [
    "你可能会问，为什么以上函数或方法不直接返回list？事实上，它们在Python 2中确实是直接返回list的。但这就涉及到一个缺陷：如果返回的列表很大，比如有上千万个元素，那就会挤占内存，影响到计算性能。Python 3对此作了改进，range、dict_items等对象实际上储存的不是具体的数据，而是一套算法，对内存很友好。更详细的说明会在之后章节涉及。"
   ]
  },
  {
   "cell_type": "markdown",
   "metadata": {},
   "source": [
    "____\n",
    "## 3.4 列表生成式 （List Comprehension）\n",
    "学会了循环控制以后，我们可以来看Python的高级特性之一——列表生成式（或列表解析式）。列表生成式是使用频率非常之高的快速生成生成列表的方式，一用就能让你的代码显得Pythonic。我们通过举例来感受它的强大和优雅。此处，我们想生成[1x1, 2x2, 3x3, ..., 10x10]，在接触列表生成式之前，你一定最先想到了普通循环："
   ]
  },
  {
   "cell_type": "code",
   "execution_count": null,
   "metadata": {
    "collapsed": false
   },
   "outputs": [],
   "source": [
    "L = []\n",
    "for i in range(1,11):\n",
    "    L.append(i * i)\n",
    "L"
   ]
  },
  {
   "cell_type": "markdown",
   "metadata": {},
   "source": [
    "但是，用列表生成式，代码将大为简化："
   ]
  },
  {
   "cell_type": "code",
   "execution_count": null,
   "metadata": {
    "collapsed": false
   },
   "outputs": [],
   "source": [
    "[i * i for i in range(1,11)]"
   ]
  },
  {
   "cell_type": "markdown",
   "metadata": {},
   "source": [
    "我们来解构这个list comprehension。首先，因为生成list，所以要用中括号括起来。第二，for i in range(1,11)表示对range对象进行遍历，依次把遍历到的元素赋值给i。第三，i \\* i代表了我们想生成的东西。\n",
    "\n",
    "我们还可以通过增加if语句，实现条件判断。"
   ]
  },
  {
   "cell_type": "code",
   "execution_count": null,
   "metadata": {
    "collapsed": false
   },
   "outputs": [],
   "source": [
    "[i * i for i in range(1,11) if i % 2 != 0]"
   ]
  },
  {
   "cell_type": "markdown",
   "metadata": {},
   "source": [
    "一般的for循环可以使用两个甚至多个变量，如dict的items()方法可同时迭代key和value，列表生成式也可以："
   ]
  },
  {
   "cell_type": "code",
   "execution_count": null,
   "metadata": {
    "collapsed": false
   },
   "outputs": [],
   "source": [
    "d = {'Michael':95,'Bob':75,'Tracy':85}\n",
    "[k + ' scores ' + str(v) for k,v in d.items()]"
   ]
  },
  {
   "cell_type": "markdown",
   "metadata": {},
   "source": [
    "我们还可以使用多层循环，两层循环还是十分常见的："
   ]
  },
  {
   "cell_type": "code",
   "execution_count": null,
   "metadata": {
    "collapsed": false
   },
   "outputs": [],
   "source": [
    "[m + n for m in 'ABC' for n in '123']"
   ]
  },
  {
   "cell_type": "code",
   "execution_count": null,
   "metadata": {
    "collapsed": false
   },
   "outputs": [],
   "source": [
    " [i * j for i in range(1,5) for j in range(1,5)]"
   ]
  },
  {
   "cell_type": "markdown",
   "metadata": {},
   "source": [
    "**问题**：请思考以上两个列表生成式的机制，你可以试着写成普通循环。"
   ]
  },
  {
   "cell_type": "code",
   "execution_count": null,
   "metadata": {
    "collapsed": false
   },
   "outputs": [],
   "source": [
    "l = []\n",
    "for m in 'ABC':  #固定m\n",
    "    for n in '123': #在m保持不变的情况下迭代'123'，赋值给n\n",
    "        l.append(m + n)\n",
    "l"
   ]
  },
  {
   "cell_type": "markdown",
   "metadata": {},
   "source": [
    "----\n",
    "## 3.5 一个综合的例子"
   ]
  },
  {
   "cell_type": "markdown",
   "metadata": {},
   "source": [
    "到目前为止，Python的简单易学你应该深有体会了。然而，理解归理解，在实际应用中，一系列语法知识往往是组合出现的，这对我们的应用能力提出了挑战。\n",
    "\n",
    "Python初学者最困惑的问题在于：学了这些，我能做什么？接下去我们来模拟一个实战场景。在解决问题的过程中，你会发现很多知识点自然地窜了出来了。\n",
    "\n",
    "首先，请确认已将教程压缩包中的textfiles文件夹放在D:\\learnpython\\chapter3之下，我们的任务是把该文件夹下所有**txt文件**对应的股票代码转换成**Wind格式**(如，601666.SH)，并根据上市板块（上海主板SH、深圳主板SZ、中小板SME、创业板GEM）存储在一个名为code的dict中。\n",
    "\n",
    "在开始该任务之前，如果你的计算机默认不显示文件拓展名，请设置为显示。\n",
    "[Windows设置方法](http://jingyan.baidu.com/article/f00622282564bdfbd3f0c827.html)；[MacOSX设置方法](http://jingyan.baidu.com/article/d8072ac469721cec95cefd95.html)\n",
    "\n",
    "然后，请认真观察textfiles文件夹里的文件名，找出一些规律。不同的股票代码区间，呈现出不同的命名规则，我们要做的就是判断出这些规则，从而对症下药。"
   ]
  },
  {
   "cell_type": "markdown",
   "metadata": {},
   "source": [
    "在一开始，我们要使用Python内置的OS模块把该文件夹所包含文件的文件名读取出来，放在一个list里面。关于模块的概念、OS模块及文件系统的操作方法，会在今后有专门章节介绍，在这里不做详述："
   ]
  },
  {
   "cell_type": "code",
   "execution_count": null,
   "metadata": {
    "collapsed": false
   },
   "outputs": [],
   "source": [
    "import os #导入os模块\n",
    "files = os.listdir('D:\\learnpython\\chapter3\\textfiles')  #listdir()是os模块的内置函数，能够读取输入路径下的所有文件名"
   ]
  },
  {
   "cell_type": "markdown",
   "metadata": {},
   "source": [
    "运行上一段代码是会报错的，为什么呢？注意到在代表路径的字符串里，有 `\\text`。`\\和t`碰到，会自动触发转义，这个斜杠就不能被Python理解为斜杠了。\n",
    "\n",
    "如果你用的是Windows系统（MacOSX的情况我不知道），错误信息的提示是：*文件名、目录名或卷标语法不正确。: 'D:\\\\learnpython\\\\chapter3\\textfiles'*，注意看，除了textfiles前面的斜杠，路径字符串中其它斜杠都成对出现，也就是说，这些斜杠被Python自动转义了，能够被正确理解为字符串。\n",
    "\n",
    "所以，我们需要避免\\t转义引发混淆，一般，有以下三种方法："
   ]
  },
  {
   "cell_type": "code",
   "execution_count": null,
   "metadata": {
    "collapsed": true
   },
   "outputs": [],
   "source": [
    "files = os.listdir(r'D:\\learnpython\\chapter3\\textfiles') #使用r关闭转义，字符串里的斜杠只是普通字符，不会触发转义。\n",
    "files2 = os.listdir('D:\\\\learnpython\\\\chapter3\\\\textfiles') #使用双斜杠。\n",
    "files3 = os.listdir('D:/learnpython/chapter3/textfiles') #使用反斜杠。"
   ]
  },
  {
   "cell_type": "markdown",
   "metadata": {},
   "source": [
    "以上三种方法效果一样，我个人倾向于选第二种。运行成功后，os.listdir()返回的是列表。"
   ]
  },
  {
   "cell_type": "code",
   "execution_count": null,
   "metadata": {
    "collapsed": false
   },
   "outputs": [],
   "source": [
    "type(files)"
   ]
  },
  {
   "cell_type": "code",
   "execution_count": null,
   "metadata": {
    "collapsed": false
   },
   "outputs": [],
   "source": [
    "files == files2"
   ]
  },
  {
   "cell_type": "code",
   "execution_count": null,
   "metadata": {
    "collapsed": false
   },
   "outputs": [],
   "source": [
    "files == files3"
   ]
  },
  {
   "cell_type": "markdown",
   "metadata": {},
   "source": [
    "如果你仔细看过这个文件夹，会发现这个所谓的textfiles文件夹里混入了一些csv文件，我们不想把格式为csv的文件放进来处理，该怎么操作呢？这里，列表生成式派上了用场："
   ]
  },
  {
   "cell_type": "code",
   "execution_count": null,
   "metadata": {
    "collapsed": false
   },
   "outputs": [],
   "source": [
    "len(files)"
   ]
  },
  {
   "cell_type": "code",
   "execution_count": null,
   "metadata": {
    "collapsed": false
   },
   "outputs": [],
   "source": [
    "print(files[:30])  #打印files列表的前30个元素看一下情况"
   ]
  },
  {
   "cell_type": "code",
   "execution_count": null,
   "metadata": {
    "collapsed": true
   },
   "outputs": [],
   "source": [
    "files = [file for file in os.listdir('D:\\\\learnpython\\\\chapter3\\\\textfiles') if file[-3:].lower() == 'txt']"
   ]
  },
  {
   "cell_type": "markdown",
   "metadata": {},
   "source": [
    "我们来解析上面这行代码： 这是一个列表生成式。首先，循环的主体是`for file in os.listdir('D:\\\\learnpython\\\\chapter3\\\\textfiles')`，表示对os.listdir()返回的列表进行循环，把遍历到的元素赋值给file。第二，判断条件是 `if file[-3:].lower() == 'txt'`，这个判断条件用于筛选出txt格式的文件名，其中file[-3:]是切片，用于截取文件的三位扩展名；lower()是字符串的方法，用于将字符串转化成小写(相反的操作是upper())，因为我们应该能注意到，某些文件的扩展名是大写的。最后，列表生成式要包括进来的元素，就是满足判断条件的file。所以这个列表生成式对原列表起到了遴选的作用。"
   ]
  },
  {
   "cell_type": "markdown",
   "metadata": {},
   "source": [
    "**问题**：请证明：files列表里确实没有csv文件了。\n",
    "\n",
    "**问题**：这一操作使files的元素减少了多少个？"
   ]
  },
  {
   "cell_type": "markdown",
   "metadata": {},
   "source": [
    "接下去我们分区间分析files列表里包含的文件名。\n",
    "1. 股票代码在1~3000的：这个区间段对应了深圳主板和中小板（002000~002999），为了符合Wind格式，我们要做的是截取数字，补零，然后加'.SZ'。\n",
    "2. 股票代码在300001~302999：这个区间段对应了创业板，所有的文件名都是以'SZ.'开头的，我们还是需要把数字截取出来。\n",
    "3. 股票代码在600001~602999：这个区间段对应了上海主板，一些文件名里股票代码已经是Wind格式的，另一些股票代码需要加'.SH'。\n",
    "针对以上分析，我们在遍历files的时候可以有针对性地设计判断条件，在这里，我采用了常规的for循环作为示范："
   ]
  },
  {
   "cell_type": "code",
   "execution_count": null,
   "metadata": {
    "collapsed": false
   },
   "outputs": [],
   "source": [
    "SH = []\n",
    "SZ = []\n",
    "SME = []\n",
    "GEM = []\n",
    "for file in files:\n",
    "    if file[:2] == 'SZ':  \n",
    "        GEM.append(file[3:-4] + '.SZ')\n",
    "    elif 'SH' in file:         #判断file是否包含SH，file本身是字符串，可以用 in 语法。\n",
    "                               #同理上一个判断语句也可以写成if 'SZ' in file，虽然意思不一样，但用在这里起到的效果等同。\n",
    "        SH.append(file[:-4])\n",
    "    elif int(file[:-4]) > 600000:\n",
    "        SH.append(file[:-4]+'.SH')\n",
    "    elif int(file[:-4]) < 2000:\n",
    "        SZ.append('%06d.SZ' % int(file[:-4]))  #用到了字符串的格式化输出。\n",
    "    else:\n",
    "        SME.append('%06d.SZ' % int(file[:-4])) \n",
    "print('Done!')"
   ]
  },
  {
   "cell_type": "markdown",
   "metadata": {},
   "source": [
    "以上代码的逻辑是先创建四个空列表，然后对files进行遍历。遍历的时候先判断是不是创业板的，再判断是不是已符合Wind格式的上海主板，接着判断是不是不符合Wind格式的上海主板，然后判断是否是深圳主板，最后判断是否是中小板。若符合判断语句，执行的相应语句，处理好格式后放到对应的列表里。\n",
    "\n",
    "**问题**：以上代码块中各个if elif语句的顺序能换吗？请体悟以下代码的含义："
   ]
  },
  {
   "cell_type": "code",
   "execution_count": null,
   "metadata": {
    "collapsed": false
   },
   "outputs": [],
   "source": [
    "#本段代码会报错\n",
    "file = '600012.txt'\n",
    "print('Condition 1:','SZ' in file)\n",
    "file = 'SZ.300172.txt'\n",
    "print('Condition 2:',int(file[:-4]) > 600000)"
   ]
  },
  {
   "cell_type": "markdown",
   "metadata": {},
   "source": [
    "**解析**：这些判断语句可以划分为两类：第一类，判断字符串中有没有目标字符（第一个if和第一个elif）；第二类，判断字符串里的数字是否满足相应条件（后面三个elif、elif、els），注意，只有数字型字符串才可以使用int()函数，否则会报错。经过前两个判断语句筛选后，剩下的文件名都是数字+**.**+拓展名，都可以通过file[:-4]把数字截取出来并传给int()函数，这就很方便了。\n",
    "\n",
    "以上判断，并不是Python的基础知识能够告诉我们的，而是通过逻辑分析得到的。所以某种程度上，**写代码考验的是一个人的逻辑**。\n",
    "\n",
    "你可以试着把第二类判断语句挪到第一类语句前面，做相应修改以避免报错。你会发现调整后的语句会变得繁琐很多。\n",
    "\n",
    "你也可以试着用列表生成式完成以上任务，你会发现，在这里用列表生成式反而不能节省代码量，比如，用列表生成式直接生成SZ的代码如下："
   ]
  },
  {
   "cell_type": "code",
   "execution_count": null,
   "metadata": {
    "collapsed": true
   },
   "outputs": [],
   "source": [
    "SZ = ['%06d.SZ' % int(file[:-4]) for file in files if not 'SZ' in file and not 'SH' in file and int(file[:-4]) < 2000 ]"
   ]
  },
  {
   "cell_type": "markdown",
   "metadata": {},
   "source": [
    "**补充**：\n",
    "\n",
    "Python的惰性计算（Lazy evaluation）\n",
    "\n",
    "在由多个and连接而成的一系列条件判断中，Python顺次评估每个判断式，只要碰到一个判断式的返回值是False，那整个条件判断语句的值就是False，后面的判断式不会被评估。这就好像电路短路。\n",
    "\n",
    "在上面这行代码中，尽管诸如'SZ.300328.txt'的字符串在传入int(file[:-4])时会出错，但是这些字符串不满足第一或第二个条件判断，故int(file[:-4])并不会被执行。\n",
    "\n",
    "同理，在由or连接而成的一些列条件判断中，只要碰到一个判断式为True，那整个条件判断语句的值就是True，后续的判断式也必要评估了。\n",
    "\n",
    "**注意**：编程中可以利用该特性，在 and逻辑中，将小概率发生的条件放在前面，或者在or逻辑中，将大概率发生的时间放在前面。这样安排有助于性能的提升。"
   ]
  },
  {
   "cell_type": "markdown",
   "metadata": {},
   "source": [
    "**补充**：Chapter2曾提到，字符串str就像一个序列，尤其像tuple。那么，既然能对list和tuple用`in`计算符，那么对str也可以。并且，in计算符用在str上时，不仅可以判断单个字符是否存在于目标字符串中，还可以判断某字符串是否存在于目标字符串中。在之前的代码中。我们用到了'SZ' in file，就是基于此特性。"
   ]
  },
  {
   "cell_type": "markdown",
   "metadata": {},
   "source": [
    "在生成SH、SZ、GEM、SME四个list之后，看似大功基本告成，只要根据list生成dict就行了。然而，万一这些列表中有重复值呢？所以出于谨慎，倒数第二道工序，是去重。"
   ]
  },
  {
   "cell_type": "code",
   "execution_count": null,
   "metadata": {
    "collapsed": false
   },
   "outputs": [],
   "source": [
    "for lst in [SH,SZ,GEM,SME]:  #为了便于循环，把SH、SZ、GEM、SME组合成一个可循环的list\n",
    "    newlst = list(set(lst))  #利用set去重，再转化回list\n",
    "    print('duplicates:', len(lst) - len(newlst)) #计算重复值个数\n",
    "    lst = newlst[:]  #采用更保险的拷贝list的方式"
   ]
  },
  {
   "cell_type": "markdown",
   "metadata": {},
   "source": [
    "从输出结果中，我们知道SH列表中有7个重复的股票代码。\n",
    "\n",
    "在完成去重以后，生成dict就水到渠成了（下面给出两种等同的写法）："
   ]
  },
  {
   "cell_type": "code",
   "execution_count": null,
   "metadata": {
    "collapsed": true
   },
   "outputs": [],
   "source": [
    "code = dict([('SH',SH),('SZ',SZ),('SME',SME),('GEM',GEM)])\n",
    "code = {'SH':SH,'SZ':SZ,'SME':SME,'GEM':GEM}"
   ]
  },
  {
   "cell_type": "markdown",
   "metadata": {},
   "source": [
    "----\n",
    "## 小结"
   ]
  },
  {
   "cell_type": "markdown",
   "metadata": {},
   "source": [
    "本章学的内容较上一章少。需要掌握的有：\n",
    "\n",
    "- for循环、while循环及各自的适用场景\n",
    "- 利用break跳出循环，利用continue跳至下一轮循环\n",
    "- 可迭代对象，以及list和dict的迭代方法\n",
    "- 利用列表生成式压缩代码量\n",
    "\n",
    "在作业中你还将遇到原理等同于列表生成式的字典生成式，尽管并不常用。本章部分内容初看可能难理解，但多练几遍就能形成肌肉记忆了。"
   ]
  }
 ],
 "metadata": {
  "kernelspec": {
   "display_name": "Python 3",
   "language": "python",
   "name": "python3"
  },
  "language_info": {
   "codemirror_mode": {
    "name": "ipython",
    "version": 3
   },
   "file_extension": ".py",
   "mimetype": "text/x-python",
   "name": "python",
   "nbconvert_exporter": "python",
   "pygments_lexer": "ipython3",
   "version": "3.6.0"
  }
 },
 "nbformat": 4,
 "nbformat_minor": 2
}
