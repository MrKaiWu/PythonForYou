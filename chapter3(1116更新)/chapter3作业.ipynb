{
 "cells": [
  {
   "cell_type": "markdown",
   "metadata": {},
   "source": [
    "# Chapter 3. Python 基础 I\n",
    "\n",
    "## 作业"
   ]
  },
  {
   "cell_type": "markdown",
   "metadata": {},
   "source": [
    "----\n",
    "### task1：利用Python的惰性计算优化if语句\n",
    "在IPython中，%timeit用来测试单行代码的运行时间，%%timeit用来测试代码块的运行时间。\n",
    "\n",
    "观察如下循环，测试其运行时间。然后，请根据注释和提示修改if语句，在newwords的结果保持不变的情况下，提升运行速度（保守估计，可削减30%以上时间）。\n",
    "\n",
    "提示：在Chapter 2我们曾详细对比过list和dict在查询上的速度差异。你是否记得查字典的比喻？对list进行查询，相当于从字典第一页开始顺序翻，而对dict进行查询，相当于根据索引、目录、页码翻。在下面的代码中，我们执行if w in abbreviations这个判断语句，abbreviations是列表，所以Python会先提取出abbreviations列表里的第一个元素，然后拿这个元素和w进行比较，如果与w相等，那么返回True，否则顺次继续比较下一个元素，如果所有元素和w都不相等，才返回False。执行这类判断的运算量比较大。但是我们可以通过增加一个先导判断条件，让w in abbreviation这个判断语句在某些情况下不执行。"
   ]
  },
  {
   "cell_type": "code",
   "execution_count": null,
   "metadata": {
    "collapsed": true
   },
   "outputs": [],
   "source": [
    "abbreviations = ['cf.', 'e.g.', 'ex.', 'etc.', 'fig.', 'i.e.', 'Mr.', 'vs.'] \n",
    "words = ('Mr.', 'Hat', 'is', 'chasing', 'the', 'black', 'cat', '.')"
   ]
  },
  {
   "cell_type": "code",
   "execution_count": null,
   "metadata": {
    "collapsed": false,
    "scrolled": true
   },
   "outputs": [],
   "source": [
    "%%timeit\n",
    "newwords = []\n",
    "for w in words:\n",
    "    if w in abbreviations: \n",
    "    #if ??? and w in abbreviations: \n",
    "        newwords.append(w)"
   ]
  },
  {
   "cell_type": "code",
   "execution_count": null,
   "metadata": {
    "collapsed": true
   },
   "outputs": [],
   "source": [
    "#作答区：请解释为什么修改后的能优化运行速度\n",
    "\n"
   ]
  },
  {
   "cell_type": "markdown",
   "metadata": {},
   "source": [
    "----\n",
    "### task2：循环\n"
   ]
  },
  {
   "cell_type": "markdown",
   "metadata": {},
   "source": [
    "请按照指示和模板写出能够计算1\\*3\\*5\\*7...\\*23的循环，其中，一个问号代表单个值，三个问号代表语句："
   ]
  },
  {
   "cell_type": "code",
   "execution_count": null,
   "metadata": {
    "collapsed": true
   },
   "outputs": [],
   "source": [
    "#方法一：使用for循环，使用range()函数\n",
    "results = 1\n",
    "for i in range(?,?,?):\n",
    "    ???\n",
    "print(result)"
   ]
  },
  {
   "cell_type": "code",
   "execution_count": null,
   "metadata": {
    "collapsed": false
   },
   "outputs": [],
   "source": [
    "#方法二：使用while循环\n",
    "results = 1\n",
    "n = 1\n",
    "while n <= ?:\n",
    "    result *= ???\n",
    "    ???\n",
    "print(result)"
   ]
  },
  {
   "cell_type": "code",
   "execution_count": null,
   "metadata": {
    "collapsed": true
   },
   "outputs": [],
   "source": [
    "#方法三：使用while循环，使用continue语句\n",
    "results = 1\n",
    "n = ?\n",
    "while n < 23:\n",
    "    ???\n",
    "    if ?:\n",
    "        ???\n",
    "    ???\n",
    "print(result)"
   ]
  },
  {
   "cell_type": "markdown",
   "metadata": {},
   "source": [
    "----\n",
    "### task3：列表生成式"
   ]
  },
  {
   "cell_type": "markdown",
   "metadata": {},
   "source": [
    "请根据以下循环写出能实现相同功能的列表生成式："
   ]
  },
  {
   "cell_type": "code",
   "execution_count": null,
   "metadata": {
    "collapsed": false
   },
   "outputs": [],
   "source": [
    "combs = []\n",
    "for x in [1,2,3]:\n",
    "    for y in [3,1,4]:\n",
    "        if x != y:\n",
    "            combs.append((x, y))\n",
    "combs"
   ]
  },
  {
   "cell_type": "code",
   "execution_count": null,
   "metadata": {
    "collapsed": true
   },
   "outputs": [],
   "source": [
    "#作答区：请写出与以上代码功能等同的列表生成式\n"
   ]
  },
  {
   "cell_type": "markdown",
   "metadata": {},
   "source": [
    "请使用单个列表生成式将列表listA中的字符串元素提取出来，将首字母转化为大写，并组成新列表listB：\n",
    "\n",
    "提示1：你可能用到的函数 -- isinstance()。在这里可以用来判断某对象是否是字符串str，示例代码如下\n",
    "\n",
    "提示2：请参考字符串的lower()方法\n",
    "\n",
    "提示3：你可以先写出普通循环，再试着写成列表生成式"
   ]
  },
  {
   "cell_type": "code",
   "execution_count": null,
   "metadata": {
    "collapsed": false
   },
   "outputs": [],
   "source": [
    "isinstance('a',str)"
   ]
  },
  {
   "cell_type": "code",
   "execution_count": null,
   "metadata": {
    "collapsed": false
   },
   "outputs": [],
   "source": [
    "isinstance('a',int)"
   ]
  },
  {
   "cell_type": "code",
   "execution_count": null,
   "metadata": {
    "collapsed": true
   },
   "outputs": [],
   "source": [
    "listA = ['china', 8008208820, 'apple',None,'android']"
   ]
  },
  {
   "cell_type": "code",
   "execution_count": null,
   "metadata": {
    "collapsed": true
   },
   "outputs": [],
   "source": [
    "#作答区：\n"
   ]
  },
  {
   "cell_type": "markdown",
   "metadata": {},
   "source": [
    "请使用列表生成式将列表vec展平，即取出vec的所有子列表的元素，放在同一级，生成新的list："
   ]
  },
  {
   "cell_type": "code",
   "execution_count": null,
   "metadata": {
    "collapsed": false
   },
   "outputs": [],
   "source": [
    "vec = [[1,2,3],[4,5,6],[7,8,9]]\n",
    "vec"
   ]
  },
  {
   "cell_type": "code",
   "execution_count": null,
   "metadata": {
    "collapsed": true
   },
   "outputs": [],
   "source": [
    "#作答区：\n"
   ]
  },
  {
   "cell_type": "markdown",
   "metadata": {
    "collapsed": true
   },
   "source": [
    "请运行以下代码。你观察到了什么？"
   ]
  },
  {
   "cell_type": "code",
   "execution_count": null,
   "metadata": {
    "collapsed": false
   },
   "outputs": [],
   "source": [
    "{x:x**2 for x in range(10)}      # **是幂运算符号"
   ]
  },
  {
   "cell_type": "code",
   "execution_count": null,
   "metadata": {
    "collapsed": true
   },
   "outputs": [],
   "source": [
    "#作答区，可以转化为markdown模式\n"
   ]
  },
  {
   "cell_type": "markdown",
   "metadata": {},
   "source": [
    "----\n",
    "### task4：简单算法\n",
    "\n",
    "算法（Algorithm）是某种计算在计算机中的实现方法。算法的教学超出了本教程的范畴，不过，作业题中可能会涉及几个简单的算法，请观察如下例子："
   ]
  },
  {
   "cell_type": "code",
   "execution_count": null,
   "metadata": {
    "collapsed": false
   },
   "outputs": [],
   "source": [
    "x = 25\n",
    "epsilon = 0.01\n",
    "step = 0.1\n",
    "guess = 0.0\n",
    "\n",
    "while guess <= x:\n",
    "    if abs(guess**2 -x) < epsilon:  # abs()函数是绝对值函数\n",
    "        break\n",
    "    else:\n",
    "        guess += step\n",
    "print('succeeded: ' + str(guess))"
   ]
  },
  {
   "cell_type": "markdown",
   "metadata": {},
   "source": [
    "请描述以上算法实现了什么功能，epsilon、step的具体含义是什么。"
   ]
  },
  {
   "cell_type": "code",
   "execution_count": null,
   "metadata": {
    "collapsed": true
   },
   "outputs": [],
   "source": [
    "#作答区，可以转化为markdown模式\n",
    "\n",
    "\n",
    "\n"
   ]
  },
  {
   "cell_type": "markdown",
   "metadata": {},
   "source": [
    "___\n",
    "### task5：字典的迭代\n",
    "\n",
    "请将字典dictA中，键(key)由不超过五种字母组成、且值(value)是质数的键值对取出，生成新字典。\n",
    "\n",
    "提示1：质数是只能被1和本身整除的数（1除外）。在此处可以用循环搜索的方式判断是否为质数，具体思想请参照task4；\n",
    "\n",
    "提示2：你可能会用到break语句"
   ]
  },
  {
   "cell_type": "code",
   "execution_count": null,
   "metadata": {
    "collapsed": true
   },
   "outputs": [],
   "source": [
    "dictA = {'aedfg':107,'ghfaja':29,'sdadasd':3,\n",
    "        'sdwqc':55,'vv':66,'za':77,'sad':88,\n",
    "        'gfy':111,'gggg':222,'uyhgf':1234,\n",
    "        'vnszl':67876545,'dsa':12,'fdsagsf':11,\n",
    "        'cklasfjkjfoq':9090,'f':90,'daweqda':23,\n",
    "        'piobnsgc':455,'qjkzda':554,'dsafmnxakjdfmdsdalfsl':7651,\n",
    "        'nvjahjvmx':7777,'asdaqd':675}"
   ]
  },
  {
   "cell_type": "code",
   "execution_count": null,
   "metadata": {
    "collapsed": false
   },
   "outputs": [],
   "source": [
    "#作答区：\n",
    "\n",
    "\n",
    "\n",
    "\n",
    "\n",
    "\n",
    "\n"
   ]
  }
 ],
 "metadata": {
  "kernelspec": {
   "display_name": "Python 3",
   "language": "python",
   "name": "python3"
  },
  "language_info": {
   "codemirror_mode": {
    "name": "ipython",
    "version": 3
   },
   "file_extension": ".py",
   "mimetype": "text/x-python",
   "name": "python",
   "nbconvert_exporter": "python",
   "pygments_lexer": "ipython3",
   "version": "3.6.0"
  }
 },
 "nbformat": 4,
 "nbformat_minor": 2
}
